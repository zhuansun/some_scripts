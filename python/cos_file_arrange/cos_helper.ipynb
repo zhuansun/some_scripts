{
 "cells": [
  {
   "cell_type": "markdown",
   "metadata": {},
   "source": [
    "# 获取cos中的所有文件"
   ]
  },
  {
   "cell_type": "code",
   "execution_count": 59,
   "metadata": {},
   "outputs": [],
   "source": [
    "from qcloud_cos import CosConfig\n",
    "from qcloud_cos import CosS3Client\n",
    "import sys\n",
    "import os\n",
    "import logging\n",
    "import re\n",
    "from urllib.parse import unquote"
   ]
  },
  {
   "cell_type": "code",
   "execution_count": 60,
   "metadata": {},
   "outputs": [],
   "source": [
    "# 初始化cos client\n",
    "\n",
    "# 正常情况日志级别使用 INFO，需要定位时可以修改为 DEBUG，此时 SDK 会打印和服务端的通信信息\n",
    "logging.basicConfig(level=logging.ERROR, stream=sys.stdout)\n",
    "\n",
    "# 1. 设置属性\n",
    "secret_id = 'XXXXX'\n",
    "secret_key = 'XXXXX'\n",
    "region = 'ap-nanjing'\n",
    "token = None\n",
    "scheme = 'https'\n",
    "\n",
    "config = CosConfig(Region=region, SecretId=secret_id, SecretKey=secret_key, Token=token, Scheme=scheme)\n",
    "client = CosS3Client(config)"
   ]
  },
  {
   "cell_type": "code",
   "execution_count": 61,
   "metadata": {},
   "outputs": [],
   "source": [
    "# 分页遍历出某一个桶内的所有对象\n",
    "pics = []\n",
    "marker = \"\"\n",
    "while True:\n",
    "    response = client.list_objects(Bucket='这里填bucket的名字',Prefix='uPic/',Marker=marker, MaxKeys=10)\n",
    "    if 'Contents' in response:\n",
    "        for content in response['Contents']:\n",
    "            pics.append(content['Key'])\n",
    "    if response['IsTruncated'] == 'false':\n",
    "        break\n",
    "    marker = response['NextMarker']"
   ]
  },
  {
   "cell_type": "code",
   "execution_count": 62,
   "metadata": {},
   "outputs": [],
   "source": [
    "# 过滤掉文件夹，只保留文件\n",
    "pics = [pic for pic in pics if not pic.endswith('/')]"
   ]
  },
  {
   "cell_type": "markdown",
   "metadata": {},
   "source": [
    "## 读取本地文件中的图片"
   ]
  },
  {
   "cell_type": "code",
   "execution_count": 63,
   "metadata": {},
   "outputs": [],
   "source": [
    "# 指定目录\n",
    "base_dir = '/Users/zcy/workspace/gitee/note'\n",
    "\n",
    "# 读取目录下的所有文件，排除隐藏文件\n",
    "files = [f for f in os.listdir(base_dir) if not f.startswith('.')]\n",
    "files\n",
    "\n",
    "# 如果是目录，则递归读取\n",
    "for f in files:\n",
    "    if os.path.isdir(os.path.join(base_dir, f)):\n",
    "        files.extend([os.path.join(f, f2) for f2 in os.listdir(os.path.join(base_dir, f)) if not f2.startswith('.')])\n",
    "\n",
    "# 只保留文件\n",
    "files = [f for f in files if os.path.isfile(os.path.join(base_dir, f))]\n",
    "files\n",
    "\n",
    "# 遍历每一个文件，一行一行的判断，是否包含图片链接。\n",
    "typora_pics = []\n",
    "for f in files:\n",
    "    try:\n",
    "        # 尝试使用不同的编码打开文件\n",
    "        encodings = ['utf-8', 'gbk', 'gb2312', 'gb18030', 'big5']\n",
    "        for encoding in encodings:\n",
    "            try:\n",
    "                with open(os.path.join(base_dir, f), 'r', encoding=encoding) as file:\n",
    "                    for line in file:\n",
    "                        if 'note-1252548816' in line:\n",
    "                            typora_pics.append(line)\n",
    "                break\n",
    "            except UnicodeDecodeError:\n",
    "                continue\n",
    "    except Exception as e:\n",
    "        print(f\"处理文件 {f} 时出错: {str(e)}\")"
   ]
  },
  {
   "cell_type": "code",
   "execution_count": 64,
   "metadata": {},
   "outputs": [],
   "source": [
    "def extract_image_links(markdown_texts):\n",
    "    # 定义正则表达式匹配两种格式的图片链接\n",
    "    pattern = r'!\\[.*?\\]\\((.*?)\\)|<img[^>]+src=\"([^\"]+)\"'\n",
    "    all_image_links = []  # 用于存储所有提取到的图片链接\n",
    "\n",
    "    # 遍历输入的 Markdown 文本列表\n",
    "    for markdown_text in markdown_texts:\n",
    "        # 使用正则表达式查找所有匹配的链接\n",
    "        matches = re.findall(pattern, markdown_text)\n",
    "        # 提取链接\n",
    "        image_links = [match[0] or match[1] for match in matches]\n",
    "        # 移除掉 \"https://oss的路径前缀/\"\n",
    "        image_links = [link.replace('https://oss的路径前缀/', '') for link in image_links]\n",
    "        # 对中文进行 unquote(encoded_str)\n",
    "        image_links = [unquote(link) for link in image_links]\n",
    "        # 将提取到的链接添加到总列表中\n",
    "        all_image_links.extend(image_links)\n",
    "\n",
    "    return all_image_links"
   ]
  },
  {
   "cell_type": "code",
   "execution_count": 65,
   "metadata": {},
   "outputs": [],
   "source": [
    "# \n",
    "clear_pics = extract_image_links(typora_pics)"
   ]
  },
  {
   "cell_type": "code",
   "execution_count": 66,
   "metadata": {},
   "outputs": [
    {
     "name": "stdout",
     "output_type": "stream",
     "text": [
      "0\n"
     ]
    },
    {
     "data": {
      "text/plain": [
       "[]"
      ]
     },
     "execution_count": 66,
     "metadata": {},
     "output_type": "execute_result"
    }
   ],
   "source": [
    "# 获取需要删除的图片id\n",
    "needDeletePics = [pic for pic in pics if pic not in clear_pics]\n",
    "print(len(needDeletePics))\n",
    "needDeletePics\n"
   ]
  },
  {
   "cell_type": "code",
   "execution_count": null,
   "metadata": {},
   "outputs": [],
   "source": [
    "# 循环遍历删除\n",
    "for pic in needDeletePics:\n",
    "    client.delete_object(Bucket='这里是bucket名称', Key=pic)\n"
   ]
  },
  {
   "cell_type": "code",
   "execution_count": null,
   "metadata": {},
   "outputs": [],
   "source": []
  }
 ],
 "metadata": {
  "kernelspec": {
   "display_name": ".venv",
   "language": "python",
   "name": "python3"
  },
  "language_info": {
   "codemirror_mode": {
    "name": "ipython",
    "version": 3
   },
   "file_extension": ".py",
   "mimetype": "text/x-python",
   "name": "python",
   "nbconvert_exporter": "python",
   "pygments_lexer": "ipython3",
   "version": "3.9.6"
  }
 },
 "nbformat": 4,
 "nbformat_minor": 2
}
