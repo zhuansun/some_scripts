{
 "cells": [
  {
   "cell_type": "code",
   "execution_count": 3,
   "metadata": {},
   "outputs": [],
   "source": [
    "from sklearn.datasets import load_iris\n",
    "from sklearn.model_selection import train_test_split"
   ]
  },
  {
   "cell_type": "code",
   "execution_count": 12,
   "metadata": {},
   "outputs": [],
   "source": [
    "X,y = load_iris(return_X_y=True)\n",
    "X_train,X_test,y_train,y_test = train_test_split(X,y,test_size=0.2,random_state=0)"
   ]
  },
  {
   "cell_type": "code",
   "execution_count": 36,
   "metadata": {},
   "outputs": [],
   "source": [
    "import numpy as np\n",
    "# 根据标签，计算gini系数\n",
    "def get_gini(y):\n",
    "    # 返回值就是两个，所以必须要用两个接收\n",
    "    unique_values,unique_values_counts = np.unique(y,return_counts=True)\n",
    "    p = unique_values_counts / y.size\n",
    "    gini = 1 - (p**2).sum()\n",
    "    return gini"
   ]
  },
  {
   "cell_type": "code",
   "execution_count": 37,
   "metadata": {},
   "outputs": [
    {
     "data": {
      "text/plain": [
       "np.float64(0.6648611111111111)"
      ]
     },
     "execution_count": 37,
     "metadata": {},
     "output_type": "execute_result"
    }
   ],
   "source": [
    "get_gini(y_train)"
   ]
  },
  {
   "cell_type": "code",
   "execution_count": 38,
   "metadata": {},
   "outputs": [
    {
     "name": "stdout",
     "output_type": "stream",
     "text": [
      "最好的特征是: 3, 最好的特征分割点是: 0.6\n"
     ]
    }
   ],
   "source": [
    "# 目的是找到决策树最合适的切分点\n",
    "# 方法是遍历所有特征；一行是4个特征，总共是150行，取80%作为训练集是120行\n",
    "# 总共是4个特征，遍历每一个特征\n",
    "best_feature_idx = None\n",
    "best_feature_value = None\n",
    "best_gini_all = None\n",
    "for feature_idx in range(4):\n",
    "    # print(feature_idx)\n",
    "    # 从训练集中取出每一个特征的值\n",
    "    feature_values = X_train[:, feature_idx]\n",
    "    # print(feature_values)\n",
    "    # 遍历每一个特征的值\n",
    "    for value in feature_values:\n",
    "        # 我们计算 gini 的混乱程度是通过标签计算的。所以我们要的是标签\n",
    "\n",
    "        # 把y_train训练集中小于value的所有样本数据取出来，组成 y_left\n",
    "        y_left = y_train[X_train[:, feature_idx] <= value]\n",
    "        weight_left = y_left.size / y_train.size\n",
    "\n",
    "        # 把y_train训练集中大于value的所有样本数据取出来，组成 y_right\n",
    "        y_right = y_train[X_train[:, feature_idx] > value]\n",
    "        weight_right = y_right.size / y_train.size\n",
    "\n",
    "        gini_left = get_gini(y_left)\n",
    "        gini_right = get_gini(y_right)\n",
    "        # 汇总gini\n",
    "        gini_all = weight_left * gini_left + weight_right * gini_right\n",
    "        if best_gini_all is None or gini_all <= best_gini_all:\n",
    "            best_gini_all = gini_all\n",
    "            best_feature_idx = feature_idx\n",
    "            best_feature_value = value\n",
    "\n",
    "print(f\"最好的特征是: {best_feature_idx}, 最好的特征分割点是: {best_feature_value}\")\n",
    "       \n"
   ]
  },
  {
   "cell_type": "code",
   "execution_count": 40,
   "metadata": {},
   "outputs": [
    {
     "data": {
      "text/plain": [
       "{np.float64(0.1),\n",
       " np.float64(0.2),\n",
       " np.float64(0.3),\n",
       " np.float64(0.4),\n",
       " np.float64(0.5),\n",
       " np.float64(0.6),\n",
       " np.float64(1.0),\n",
       " np.float64(1.1),\n",
       " np.float64(1.2),\n",
       " np.float64(1.3),\n",
       " np.float64(1.4),\n",
       " np.float64(1.5),\n",
       " np.float64(1.6),\n",
       " np.float64(1.7),\n",
       " np.float64(1.8),\n",
       " np.float64(1.9),\n",
       " np.float64(2.0),\n",
       " np.float64(2.1),\n",
       " np.float64(2.2),\n",
       " np.float64(2.3),\n",
       " np.float64(2.4),\n",
       " np.float64(2.5)}"
      ]
     },
     "execution_count": 40,
     "metadata": {},
     "output_type": "execute_result"
    }
   ],
   "source": [
    "set(X_train[:,3])"
   ]
  },
  {
   "cell_type": "code",
   "execution_count": 43,
   "metadata": {},
   "outputs": [],
   "source": [
    "from sklearn.datasets import make_regression\n",
    "from sklearn.tree import DecisionTreeRegressor\n",
    "from sklearn.tree import plot_tree\n",
    "X,y = make_regression(n_samples=100,n_features=4,random_state=0)\n",
    "X_train,X_test,y_train,y_test = train_test_split(X,y,test_size=0.2,random_state=0)"
   ]
  },
  {
   "cell_type": "code",
   "execution_count": 46,
   "metadata": {},
   "outputs": [
    {
     "data": {
      "text/plain": [
       "0.37229783086199886"
      ]
     },
     "execution_count": 46,
     "metadata": {},
     "output_type": "execute_result"
    }
   ],
   "source": [
    "\n",
    "reg = DecisionTreeRegressor(max_depth=1)\n",
    "reg.fit(X_train,y_train)\n",
    "reg.predict(X_test)\n",
    "reg.score(X_test,y_test)\n"
   ]
  },
  {
   "cell_type": "code",
   "execution_count": 47,
   "metadata": {},
   "outputs": [
    {
     "data": {
      "text/plain": [
       "[Text(0.5, 0.75, 'x[3] <= -0.26\\nsquared_error = 12527.615\\nsamples = 80\\nvalue = -2.109'),\n",
       " Text(0.25, 0.25, 'squared_error = 6520.436\\nsamples = 22\\nvalue = -121.612'),\n",
       " Text(0.375, 0.5, 'True  '),\n",
       " Text(0.75, 0.25, 'squared_error = 7334.59\\nsamples = 58\\nvalue = 43.22'),\n",
       " Text(0.625, 0.5, '  False')]"
      ]
     },
     "execution_count": 47,
     "metadata": {},
     "output_type": "execute_result"
    },
    {
     "data": {
      "image/png": "[encoded data removed]",
      "text/plain": [
       "<Figure size 640x480 with 1 Axes>"
      ]
     },
     "metadata": {},
     "output_type": "display_data"
    }
   ],
   "source": [
    "\n",
    "plot_tree(reg)"
   ]
  },
  {
   "cell_type": "code",
   "execution_count": 51,
   "metadata": {},
   "outputs": [
    {
     "name": "stdout",
     "output_type": "stream",
     "text": [
      "y_train的均值是: -2.108973222880325, y_train的方差是: 12527.615365314592\n"
     ]
    }
   ],
   "source": [
    "y_train.mean()\n",
    "y_train.var()\n",
    "print(f\"y_train的均值是: {y_train.mean()}, y_train的方差是: {y_train.var()}\")\n"
   ]
  },
  {
   "cell_type": "code",
   "execution_count": 50,
   "metadata": {},
   "outputs": [
    {
     "data": {
      "text/plain": [
       "np.float64(12527.615365314592)"
      ]
     },
     "execution_count": 50,
     "metadata": {},
     "output_type": "execute_result"
    }
   ],
   "source": []
  },
  {
   "cell_type": "code",
   "execution_count": null,
   "metadata": {},
   "outputs": [],
   "source": []
  }
 ],
 "metadata": {
  "kernelspec": {
   "display_name": ".venv",
   "language": "python",
   "name": "python3"
  },
  "language_info": {
   "codemirror_mode": {
    "name": "ipython",
    "version": 3
   },
   "file_extension": ".py",
   "mimetype": "text/x-python",
   "name": "python",
   "nbconvert_exporter": "python",
   "pygments_lexer": "ipython3",
   "version": "3.9.6"
  }
 },
 "nbformat": 4,
 "nbformat_minor": 2
}
