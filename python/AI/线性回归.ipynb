{
 "cells": [
  {
   "cell_type": "code",
   "execution_count": 1,
   "metadata": {},
   "outputs": [],
   "source": [
    "def fn(x):\n",
    "    # 这里定义一个函数，我们假定不知道这个函数的曲线，现在要找到它的最小值\n",
    "    return 2 * x ** 2 - 0.5"
   ]
  },
  {
   "cell_type": "code",
   "execution_count": 2,
   "metadata": {},
   "outputs": [
    {
     "data": {
      "text/plain": [
       "[<matplotlib.lines.Line2D at 0x110fdcb20>]"
      ]
     },
     "execution_count": 2,
     "metadata": {},
     "output_type": "execute_result"
    },
    {
     "data": {
      "image/png": "[encoded data removed]",
      "text/plain": [
       "<Figure size 640x480 with 1 Axes>"
      ]
     },
     "metadata": {},
     "output_type": "display_data"
    }
   ],
   "source": [
    "# 打印出图像\n",
    "from matplotlib import pyplot as plt\n",
    "import numpy as np\n",
    "\n",
    "x = np.linspace(-10, 10, 100)\n",
    "y = fn(x)\n",
    "\n",
    "plt.plot(x, y)"
   ]
  },
  {
   "cell_type": "code",
   "execution_count": 15,
   "metadata": {},
   "outputs": [
    {
     "name": "stdout",
     "output_type": "stream",
     "text": [
      "最小点: -3, 最小值: 17.5\n"
     ]
    }
   ],
   "source": [
    "# 蒙特卡洛思想\n",
    "X = np.random.randint(-100,100,size=10)\n",
    "minValue = None\n",
    "minX = None\n",
    "for i in X:\n",
    "    if minValue is None or fn(i) < minValue:\n",
    "        minValue = fn(i)\n",
    "        minX = i\n",
    "\n",
    "print(f\"最小点: {minX}, 最小值: {minValue}\")"
   ]
  },
  {
   "cell_type": "code",
   "execution_count": 35,
   "metadata": {},
   "outputs": [
    {
     "name": "stdout",
     "output_type": "stream",
     "text": [
      "向左走 [3] 当前值 [17.5]\n",
      "向左走 [2] 当前值 [7.5]\n",
      "向左走 [1] 当前值 [1.5]\n",
      "向左走 [0] 当前值 [-0.5]\n",
      "最小点: [0], 最小值: [-0.5]\n"
     ]
    }
   ],
   "source": [
    "# 随机选择一个点\n",
    "x0 = np.random.randint(-100,100,size=1)\n",
    "# 定义一个步长\n",
    "step = 1\n",
    "# 最大迭代次数\n",
    "max_iter = 100\n",
    "# 迭代的过程\n",
    "for i in range(max_iter):\n",
    "    if fn(x0 + step) < fn(x0):\n",
    "        x0 = x0 + step\n",
    "        print(f\"向右走 {x0} 当前值 {fn(x0)}\")\n",
    "    elif fn(x0 - step) < fn(x0):\n",
    "        x0 = x0 - step\n",
    "        print(f\"向左走 {x0} 当前值 {fn(x0)}\")\n",
    "    else:\n",
    "        x0 = x0\n",
    "        break\n",
    "print(f\"最小点: {x0}, 最小值: {fn(x0)}\")\n"
   ]
  },
  {
   "cell_type": "code",
   "execution_count": 37,
   "metadata": {},
   "outputs": [],
   "source": [
    "# 求导函数\n",
    "def df(x):\n",
    "    return 4 * x"
   ]
  },
  {
   "cell_type": "code",
   "execution_count": 39,
   "metadata": {},
   "outputs": [
    {
     "name": "stdout",
     "output_type": "stream",
     "text": [
      "当前点: [17], 当前值: [577.5]\n",
      "当前点: [-51], 当前值: [5201.5]\n",
      "当前点: [153], 当前值: [46817.5]\n",
      "当前点: [-459], 当前值: [421361.5]\n",
      "当前点: [1377], 当前值: [3792257.5]\n",
      "当前点: [-4131], 当前值: [34130321.5]\n",
      "当前点: [12393], 当前值: [3.07172898e+08]\n",
      "当前点: [-37179], 当前值: [2.76455608e+09]\n",
      "当前点: [111537], 当前值: [2.48810047e+10]\n",
      "当前点: [-334611], 当前值: [2.23929043e+11]\n",
      "当前点: [1003833], 当前值: [2.01536138e+12]\n",
      "当前点: [-3011499], 当前值: [1.81382525e+13]\n",
      "当前点: [9034497], 当前值: [1.63244272e+14]\n",
      "当前点: [-27103491], 当前值: [1.46919845e+15]\n",
      "当前点: [81310473], 当前值: [1.3222786e+16]\n",
      "当前点: [-243931419], 当前值: [1.19005074e+17]\n",
      "当前点: [731794257], 当前值: [1.07104567e+18]\n",
      "当前点: [-2195382771], 当前值: [-8.80733305e+18]\n",
      "当前点: [6586148313], 当前值: [-5.47902117e+18]\n",
      "当前点: [-19758444939], 当前值: [6.02904172e+18]\n",
      "当前点: [59275334817], 当前值: [-1.07885675e+18]\n",
      "当前点: [-177826004451], 当前值: [8.73703334e+18]\n",
      "当前点: [533478013353], 当前值: [4.84632375e+18]\n",
      "当前点: [-1600434040059], 当前值: [6.72342556e+18]\n",
      "当前点: [4801302120177], 当前值: [5.17059783e+18]\n",
      "当前点: [-14403906360531], 当前值: [-8.80485178e+18]\n",
      "当前点: [43211719081593], 当前值: [-5.45668972e+18]\n",
      "当前点: [-129635157244779], 当前值: [6.23002478e+18]\n",
      "当前点: [388905471734337], 当前值: [7.29990757e+17]\n",
      "当前点: [-1166716415203011], 当前值: [6.56991681e+18]\n",
      "当前点: [3500149245609033], 当前值: [3.78901908e+18]\n",
      "当前点: [-10500447736827099], 当前值: [-2.79231641e+18]\n",
      "当前点: [31501343210481297], 当前值: [-6.68410363e+18]\n",
      "当前点: [-94504029631443891], 当前值: [-4.81670042e+18]\n",
      "当前点: [283512088894331673], 当前值: [-6.45681564e+18]\n",
      "当前点: [-850536266682995019], 当前值: [-2.77110851e+18]\n",
      "当前点: [2551608800048985057], 当前值: [-6.49323251e+18]\n",
      "当前点: [-7654826400146955171], 当前值: [-3.09886033e+18]\n",
      "当前点: [4517735126731313897], 当前值: [9.00374514e+18]\n",
      "当前点: [4893538693515609925], 当前值: [7.24672993e+18]\n",
      "当前点: [3766127993162721841], 当前值: [-8.56640689e+18]\n",
      "当前点: [7148360094221386093], 当前值: [-3.31068574e+18]\n",
      "当前点: [-2998336208954606663], 当前值: [7.09731646e+18]\n",
      "当前点: [8995008626863819989], 当前值: [8.53561596e+18]\n",
      "当前点: [-8538281806881908351], 当前值: [3.03356738e+18]\n",
      "当前点: [7168101346936173437], 当前值: [8.85536232e+18]\n",
      "当前点: [-3057559967098968695], 当前值: [5.91128456e+18]\n",
      "当前点: [9172679901296906085], 当前值: [-2.1386712e+18]\n",
      "当前点: [-9071295630181166639], 当前值: [-8.01296767e+17]\n",
      "当前点: [8767142816833948301], 当前值: [-7.2116709e+18]\n",
      "当前点: [-7854684376792293287], 当前值: [8.88193821e+18]\n",
      "当前点: [5117309056667328245], 当前值: [6.15046758e+18]\n",
      "当前点: [3094816903707566881], 当前值: [1.39759731e+16]\n",
      "当前点: [9162293362586850973], 当前值: [1.25783758e+17]\n",
      "当前点: [-9040136014051001303], 当前值: [1.13205382e+18]\n",
      "当前点: [8673663968443452293], 当前值: [-8.25825971e+18]\n",
      "当前点: [-7574247831620805263], 当前值: [-5.37361126e+17]\n",
      "当前点: [4275999421152864173], 当前值: [-4.83625013e+18]\n",
      "当前点: [5618745810250959097], 当前值: [-6.63276306e+18]\n",
      "当前点: [1590506642956674325], 当前值: [-4.35463533e+18]\n",
      "当前点: [-4771519928870022975], 当前值: [-2.29822983e+18]\n",
      "当前点: [-4132184287099482691], 当前值: [-2.23732439e+18]\n",
      "当前点: [-6050191212411103543], 当前值: [-1.68917547e+18]\n",
      "当前点: [-296170436476240987], 当前值: [3.24416482e+18]\n",
      "当前点: [888511309428722961], 当前值: [-7.69600472e+18]\n",
      "当前点: [-2665533928286168883], 当前值: [4.52293379e+18]\n",
      "当前点: [7996601784858506649], 当前值: [3.81291594e+18]\n",
      "当前点: [-5543061280865968331], 当前值: [-2.57724471e+18]\n",
      "当前点: [-1817560231111646623], 当前值: [-4.74845833e+18]\n",
      "当前点: [5452680693334939869], 当前值: [-5.84263679e+18]\n",
      "当前点: [2088701993704732009], 当前值: [2.75650114e+18]\n",
      "当前点: [-6266105981114196027], 当前值: [6.36176623e+18]\n",
      "当前点: [351573869633036465], 当前值: [1.91566381e+18]\n",
      "当前点: [-1054721608899109395], 当前值: [-1.20576979e+18]\n",
      "当前点: [3164164826697328185], 当前值: [7.59481592e+18]\n",
      "当前点: [8954249593617567061], 当前值: [-5.43363298e+18]\n",
      "当前点: [-8416004707143149567], 当前值: [6.43753538e+18]\n",
      "当前点: [6801270047719897085], 当前值: [2.59758618e+18]\n",
      "当前点: [-1957066069450139639], 当前值: [4.93153152e+18]\n",
      "当前点: [5871198208350418917], 当前值: [7.49029551e+18]\n",
      "当前点: [833149448658294865], 当前值: [-6.37431675e+18]\n",
      "当前点: [-2499448345974884595], 当前值: [-2.02861849e+18]\n",
      "当前点: [7498345037924653785], 当前值: [1.89177688e+17]\n",
      "当前点: [-4048291040064409739], 当前值: [1.70259919e+18]\n",
      "当前点: [-6301870953516322399], 当前值: [-3.12335135e+18]\n",
      "当前点: [458868786839415581], 当前值: [8.78332603e+18]\n",
      "当前点: [-1376606360518246743], 当前值: [5.26295796e+18]\n",
      "当前点: [4129819081554740229], 当前值: [-7.97361059e+18]\n",
      "当前点: [6057286829045330929], 当前值: [2.02448102e+18]\n",
      "当前点: [274883586573558829], 当前值: [-2.264149e+17]\n",
      "当前点: [-824650759720676487], 当前值: [-2.0377341e+18]\n",
      "当前点: [2473952279162029461], 当前值: [1.07137189e+17]\n",
      "当前点: [-7421856837486088383], 当前值: [9.64234697e+17]\n",
      "当前点: [3818826438748713533], 当前值: [8.67811227e+18]\n",
      "当前点: [6990264757463411017], 当前值: [4.31603413e+18]\n",
      "当前点: [-2524050198680681435], 当前值: [1.95081906e+18]\n",
      "当前点: [7572150596042044305], 当前值: [-8.89372549e+17]\n",
      "当前点: [-4269707714416581299], 当前值: [-8.00435294e+18]\n",
      "当前点: [-5637620930459807719], 当前值: [1.7477998e+18]\n",
      "当前点: [-1533881282330128459], 当前值: [-2.71654588e+18]\n",
      "最小点: [4601643846990385377], 最小值: [-6.00216884e+18]\n"
     ]
    }
   ],
   "source": [
    "# 随机选择一个点\n",
    "x0 = np.random.randint(-100,100,size=1)\n",
    "# 最大迭代次数\n",
    "max_iter = 100\n",
    "# 迭代的过程\n",
    "for i in range(max_iter):\n",
    "    print(f\"当前点: {x0}, 当前值: {fn(x0)}\")\n",
    "    x0 -= df(x0)\n",
    "print(f\"最小点: {x0}, 最小值: {fn(x0)}\")\n"
   ]
  },
  {
   "cell_type": "code",
   "execution_count": 44,
   "metadata": {},
   "outputs": [
    {
     "name": "stdout",
     "output_type": "stream",
     "text": [
      "当前点: [13], 当前值: [337.5]\n",
      "当前点: [7.8], 当前值: [121.18]\n",
      "当前点: [4.68], 当前值: [43.3048]\n",
      "当前点: [2.808], 当前值: [15.269728]\n",
      "当前点: [1.6848], 当前值: [5.17710208]\n",
      "当前点: [1.01088], 当前值: [1.54375675]\n",
      "当前点: [0.606528], 当前值: [0.23575243]\n",
      "当前点: [0.3639168], 当前值: [-0.23512913]\n",
      "当前点: [0.21835008], 当前值: [-0.40464649]\n",
      "当前点: [0.13101005], 当前值: [-0.46567273]\n",
      "当前点: [0.07860603], 当前值: [-0.48764218]\n",
      "当前点: [0.04716362], 当前值: [-0.49555119]\n",
      "当前点: [0.02829817], 当前值: [-0.49839843]\n",
      "当前点: [0.0169789], 当前值: [-0.49942343]\n",
      "当前点: [0.01018734], 当前值: [-0.49979244]\n",
      "当前点: [0.0061124], 当前值: [-0.49992528]\n",
      "当前点: [0.00366744], 当前值: [-0.4999731]\n",
      "当前点: [0.00220047], 当前值: [-0.49999032]\n",
      "当前点: [0.00132028], 当前值: [-0.49999651]\n",
      "当前点: [0.00079217], 当前值: [-0.49999874]\n",
      "最小点: [0.0004753], 最小值: [-0.49999955]\n"
     ]
    }
   ],
   "source": [
    "# 随机选择一个点\n",
    "x0 = np.random.randint(-100,100,size=1)\n",
    "# 最大迭代次数\n",
    "max_iter = 100\n",
    "# 学习率\n",
    "lr = 1e-1\n",
    "# 迭代的过程\n",
    "for i in range(max_iter):\n",
    "    print(f\"当前点: {x0}, 当前值: {fn(x0)}\")\n",
    "    old_value = fn(x0)\n",
    "    x0 = x0 - lr * df(x0)\n",
    "    # 让循环停下来\n",
    "    if np.abs(fn(x0) - old_value) < 1e-6:\n",
    "        break\n",
    "print(f\"最小点: {x0}, 最小值: {fn(x0)}\")\n"
   ]
  },
  {
   "cell_type": "markdown",
   "metadata": {},
   "source": []
  },
  {
   "cell_type": "code",
   "execution_count": null,
   "metadata": {},
   "outputs": [],
   "source": []
  },
  {
   "cell_type": "code",
   "execution_count": null,
   "metadata": {},
   "outputs": [],
   "source": []
  },
  {
   "cell_type": "code",
   "execution_count": null,
   "metadata": {},
   "outputs": [],
   "source": []
  },
  {
   "cell_type": "code",
   "execution_count": null,
   "metadata": {},
   "outputs": [],
   "source": []
  },
  {
   "cell_type": "code",
   "execution_count": null,
   "metadata": {},
   "outputs": [],
   "source": []
  },
  {
   "cell_type": "code",
   "execution_count": null,
   "metadata": {},
   "outputs": [],
   "source": []
  }
 ],
 "metadata": {
  "kernelspec": {
   "display_name": ".venv",
   "language": "python",
   "name": "python3"
  },
  "language_info": {
   "codemirror_mode": {
    "name": "ipython",
    "version": 3
   },
   "file_extension": ".py",
   "mimetype": "text/x-python",
   "name": "python",
   "nbconvert_exporter": "python",
   "pygments_lexer": "ipython3",
   "version": "3.9.6"
  }
 },
 "nbformat": 4,
 "nbformat_minor": 2
}
