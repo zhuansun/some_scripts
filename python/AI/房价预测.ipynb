{
 "cells": [
  {
   "cell_type": "markdown",
   "metadata": {},
   "source": [
    "经典的线性回归案例"
   ]
  },
  {
   "cell_type": "code",
   "execution_count": 45,
   "metadata": {},
   "outputs": [],
   "source": [
    "import numpy as np\n",
    "from sklearn.model_selection import train_test_split\n",
    "from sklearn.linear_model import LinearRegression\n",
    "from sklearn.metrics import mean_squared_error\n",
    "from sklearn.preprocessing import StandardScaler"
   ]
  },
  {
   "cell_type": "code",
   "execution_count": 46,
   "metadata": {},
   "outputs": [],
   "source": [
    "# 导入数据\n",
    "X = []\n",
    "y = []\n",
    "with open(file='./data/housing.csv', mode='r', encoding='utf-8') as f:\n",
    "    for line in f:\n",
    "        ling = line.strip()\n",
    "        if line:\n",
    "            line = [float(char) for char in line.split(' ') if char]\n",
    "            X.append(line[:-1])\n",
    "            y.append(line[-1])\n",
    "\n",
    "X = np.array(X)\n",
    "y = np.array(y)\n"
   ]
  },
  {
   "cell_type": "code",
   "execution_count": 47,
   "metadata": {},
   "outputs": [],
   "source": [
    "# 数据集划分\n",
    "X_train, X_test, y_train, y_test = train_test_split(X, y, test_size=0.2, random_state=0)\n",
    "\n",
    "# 数据预处理：标准化\n",
    "scaler = StandardScaler()\n",
    "X_train = scaler.fit_transform(X_train)\n",
    "X_test = scaler.transform(X_test)"
   ]
  },
  {
   "cell_type": "code",
   "execution_count": 42,
   "metadata": {},
   "outputs": [
    {
     "name": "stdout",
     "output_type": "stream",
     "text": [
      "均方误差: 23.6950851420352\n",
      "模型权重（也叫系数）(就是 y = wx + b 中的 w): [-1.03236367  1.12804285  0.58748158  0.37930536 -2.11881444  3.67856734\n",
      "  0.18276288 -2.94061549  3.5149033  -2.63450929 -2.05386727 -0.29735515\n",
      " -3.62614886]\n",
      "模型偏置（也叫截距）(就是 y = wx + b 中的 b): 24.495975232198155\n"
     ]
    }
   ],
   "source": [
    "# 线性回归模型\n",
    "model = LinearRegression()\n",
    "model.fit(X_train, y_train)\n",
    "\n",
    "# 预测\n",
    "y_pred = model.predict(X_test)\n",
    "\n",
    "# 评估模型\n",
    "mse = mean_squared_error(y_test, y_pred)\n",
    "print(f\"均方误差: {mse}\")\n",
    "\n",
    "print(f\"模型权重（也叫系数）(就是 y = wx + b 中的 w): {model.coef_}\")\n",
    "print(f\"模型偏置（也叫截距）(就是 y = wx + b 中的 b): {model.intercept_}\")\n"
   ]
  },
  {
   "cell_type": "code",
   "execution_count": 43,
   "metadata": {},
   "outputs": [],
   "source": [
    "# 最小二乘法\n",
    "\n",
    "# 在特征矩阵的最后，拼接全是1的列\n",
    "X_train1 = np.hstack([X_train, np.ones((X_train.shape[0], 1))])\n",
    "\n",
    "# 最小二乘法求解\n",
    "# np.linalg.inv 求逆矩阵\n",
    "# .T 矩阵的转置\n",
    "np.linalg.inv(X_train1.T @ X_train1) @ X_train1.T @ y_train[:,np.newaxis]\n",
    "# 最终的结果是一个 (14, 1) 的矩阵；前13个是w，最后一个是b\n"
   ]
  },
  {
   "cell_type": "code",
   "execution_count": 44,
   "metadata": {},
   "outputs": [
    {
     "data": {
      "text/plain": [
       "array([[-1.03236367],\n",
       "       [ 1.12804285],\n",
       "       [ 0.58748158],\n",
       "       [ 0.37930536],\n",
       "       [-2.11881444],\n",
       "       [ 3.67856734],\n",
       "       [ 0.18276288],\n",
       "       [-2.94061549],\n",
       "       [ 3.5149033 ],\n",
       "       [-2.63450929],\n",
       "       [-2.05386727],\n",
       "       [-0.29735515],\n",
       "       [-3.62614886],\n",
       "       [24.49597523]])"
      ]
     },
     "execution_count": 44,
     "metadata": {},
     "output_type": "execute_result"
    }
   ],
   "source": [
    "w"
   ]
  },
  {
   "cell_type": "code",
   "execution_count": null,
   "metadata": {},
   "outputs": [],
   "source": []
  }
 ],
 "metadata": {
  "kernelspec": {
   "display_name": ".venv",
   "language": "python",
   "name": "python3"
  },
  "language_info": {
   "codemirror_mode": {
    "name": "ipython",
    "version": 3
   },
   "file_extension": ".py",
   "mimetype": "text/x-python",
   "name": "python",
   "nbconvert_exporter": "python",
   "pygments_lexer": "ipython3",
   "version": "3.9.6"
  }
 },
 "nbformat": 4,
 "nbformat_minor": 2
}
