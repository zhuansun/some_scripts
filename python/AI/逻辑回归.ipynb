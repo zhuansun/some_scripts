{
 "cells": [
  {
   "cell_type": "code",
   "execution_count": 1,
   "metadata": {},
   "outputs": [],
   "source": [
    "from sklearn.linear_model import LogisticRegression\n",
    "from sklearn.model_selection import train_test_split\n",
    "from sklearn.datasets import load_breast_cancer"
   ]
  },
  {
   "cell_type": "code",
   "execution_count": 6,
   "metadata": {},
   "outputs": [
    {
     "name": "stdout",
     "output_type": "stream",
     "text": [
      "准确率: 0.9473684210526315\n",
      "逻辑回归是基于线性回归的所以也有系数(就是 y = wx + b 中的 w): [[ 0.70249068  0.18739916 -0.18970712  0.02291695 -0.14796983 -0.18711813\n",
      "  -0.37195219 -0.21460238 -0.27646976 -0.02888125 -0.04393949  1.04340732\n",
      "  -0.00970456 -0.1083086  -0.01261187  0.05883865 -0.0132905  -0.02310664\n",
      "  -0.02831797  0.01510673  0.29132932 -0.41329739 -0.20315057 -0.01105286\n",
      "  -0.26425755 -0.66325227 -1.22331837 -0.46429764 -0.62612752 -0.09373649]]\n",
      "逻辑回归是基于线性回归的所以也有偏置(就是 y = wx + b 中的 b): [29.63289175]\n"
     ]
    }
   ],
   "source": [
    "X, y = load_breast_cancer(return_X_y=True)\n",
    "X_train, X_test, y_train, y_test = train_test_split(X, y, test_size=0.2, random_state=0)\n",
    "\n",
    "model = LogisticRegression(max_iter=10000)\n",
    "#训练\n",
    "model.fit(X_train, y_train)\n",
    "#预测\n",
    "y_pred = model.predict(X_test)\n",
    "#评估\n",
    "acc = ((y_test == y_pred) ** 2).mean()\n",
    "\n",
    "print(f\"准确率: {acc}\")\n",
    "print(f\"逻辑回归是基于线性回归的所以也有系数(就是 y = wx + b 中的 w): {model.coef_}\")\n",
    "print(f\"逻辑回归是基于线性回归的所以也有偏置(就是 y = wx + b 中的 b): {model.intercept_}\")\n",
    "\n"
   ]
  },
  {
   "cell_type": "code",
   "execution_count": null,
   "metadata": {},
   "outputs": [],
   "source": []
  }
 ],
 "metadata": {
  "kernelspec": {
   "display_name": ".venv",
   "language": "python",
   "name": "python3"
  },
  "language_info": {
   "codemirror_mode": {
    "name": "ipython",
    "version": 3
   },
   "file_extension": ".py",
   "mimetype": "text/x-python",
   "name": "python",
   "nbconvert_exporter": "python",
   "pygments_lexer": "ipython3",
   "version": "3.9.6"
  }
 },
 "nbformat": 4,
 "nbformat_minor": 2
}
