{
 "cells": [
  {
   "cell_type": "code",
   "execution_count": 10,
   "metadata": {},
   "outputs": [],
   "source": [
    "import torch\n",
    "from torch.utils.data import Dataset\n",
    "from torch.utils.data import DataLoader\n",
    "from sklearn.datasets import make_regression\n",
    "from sklearn.model_selection import train_test_split\n",
    "import numpy as np"
   ]
  },
  {
   "cell_type": "code",
   "execution_count": 11,
   "metadata": {},
   "outputs": [],
   "source": [
    "# 准备数据\n",
    "X, y = make_regression(n_samples=10000, n_features=100, n_informative=10, random_state=0)"
   ]
  },
  {
   "cell_type": "code",
   "execution_count": 12,
   "metadata": {},
   "outputs": [],
   "source": [
    "# 人为增加噪声\n",
    "np.random.seed(0)\n",
    "nosie = np.random.randn(10000) * 10\n",
    "y += nosie"
   ]
  },
  {
   "cell_type": "code",
   "execution_count": 13,
   "metadata": {},
   "outputs": [],
   "source": [
    "# 拆分数据集\n",
    "X_train,X_test,y_train,y_test = train_test_split(X,y,test_size=0.2,random_state=0)"
   ]
  },
  {
   "cell_type": "code",
   "execution_count": 14,
   "metadata": {},
   "outputs": [],
   "source": [
    "# 给测试集人为增加噪声\n",
    "np.random.seed(1)\n",
    "nosie = np.random.randn(2000) * 10\n",
    "y_test += nosie"
   ]
  },
  {
   "cell_type": "code",
   "execution_count": 15,
   "metadata": {},
   "outputs": [],
   "source": [
    "# 数据预处理\n",
    "mu = X_train.mean(axis=0)\n",
    "sigma = X_train.std(axis=0) + 1e-10\n",
    "X_train = (X_train - mu) / sigma\n",
    "X_test = (X_test - mu) / sigma"
   ]
  },
  {
   "cell_type": "code",
   "execution_count": 16,
   "metadata": {},
   "outputs": [],
   "source": [
    "class MyDataset(Dataset):\n",
    "    def __init__(self, X, y):\n",
    "        \"\"\"\n",
    "            初始化\n",
    "        \"\"\"\n",
    "        self.X = X\n",
    "        self.y = y\n",
    "\n",
    "    def __len__(self):\n",
    "        \"\"\"\n",
    "            返回数据集中样本的总个数\n",
    "        \"\"\"\n",
    "        return len(self.X)\n",
    "\n",
    "    def __getitem__(self, idx):\n",
    "        \"\"\"\n",
    "            用于索引数据\n",
    "        \"\"\"\n",
    "        x_idx = torch.tensor(data=self.X[idx], dtype=torch.float32)\n",
    "        y_idx = torch.tensor(data=[self.y[idx]], dtype=torch.float32)\n",
    "        return x_idx, y_idx"
   ]
  },
  {
   "cell_type": "code",
   "execution_count": 17,
   "metadata": {},
   "outputs": [],
   "source": [
    "# 打包训练集\n",
    "train_dataset = MyDataset(X=X_train, y=y_train)\n",
    "# 定义一个数据集的加载器\n",
    "# shuffle 表示是否打乱数据\n",
    "# 如果数据集最后一批不够了，有两个策略，一种是丢弃，另一种是直接作为最后一批，通过drop_last=True来控制\n",
    "# 普通的生成器只能被遍历一次；dataloader也是一个生成器，但是可以被遍历多次\n",
    "train_dataloader = DataLoader(train_dataset, batch_size=128, shuffle=True)"
   ]
  },
  {
   "cell_type": "code",
   "execution_count": 18,
   "metadata": {},
   "outputs": [],
   "source": [
    "# 打包测试集\n",
    "test_dataset = MyDataset(X=X_test, y=y_test)\n",
    "test_dataloader = DataLoader(test_dataset, batch_size=256, shuffle=False)"
   ]
  },
  {
   "cell_type": "code",
   "execution_count": 19,
   "metadata": {},
   "outputs": [],
   "source": [
    "# 自定义模型\n",
    "from torch import nn\n",
    "# 模型继承自 nn.Module\n",
    "class Model(nn.Module):\n",
    "    \"\"\"自定义深度学习模型\"\"\"\n",
    "    def __init__(self) -> None:\n",
    "        \"\"\"初始化\"\"\"\n",
    "        super(Model,self).__init__()\n",
    "        # 定义一个线性层，可以把100个特征变成了1个特征\n",
    "        self.fc1 = nn.Linear(in_features=100, out_features=64)\n",
    "        self.fc2 = nn.Linear(in_features=64, out_features=1)\n",
    "\n",
    "    def forward(self, x):\n",
    "        \"\"\"\n",
    "        正向传播过程\n",
    "            - x: 输入数据，形状为(batch_size, 100)\n",
    "            - 返回值: 输出数据，形状为(batch_size, 1)\n",
    "        \"\"\"\n",
    "        x = self.fc1(x)\n",
    "        x = torch.relu(x)\n",
    "        x = self.fc2(x)\n",
    "        return x\n",
    "        "
   ]
  },
  {
   "cell_type": "code",
   "execution_count": 20,
   "metadata": {},
   "outputs": [
    {
     "data": {
      "text/plain": [
       "'\\nPS:模型是一个线性层，结果是怎么算出来的\\n- 我猜测和我们之前做的一样，第一次线性变换使用的 w和b是随机的。然后后续再不停地优化\\n'"
      ]
     },
     "execution_count": 20,
     "metadata": {},
     "output_type": "execute_result"
    }
   ],
   "source": [
    "\"\"\"\n",
    "PS:模型是一个线性层，结果是怎么算出来的\n",
    "- 我猜测和我们之前做的一样，第一次线性变换使用的 w和b是随机的。然后后续再不停地优化\n",
    "\"\"\""
   ]
  },
  {
   "cell_type": "code",
   "execution_count": 21,
   "metadata": {},
   "outputs": [],
   "source": [
    "# 创建模型\n",
    "model = Model()\n",
    "epochs = 100\n",
    "learning_rate = 1e-3\n",
    "loss_fn = nn.MSELoss()\n",
    "# 优化器\n",
    "# 优化器做了两个步骤：自动求偏导，清空梯度\n",
    "optimizer = torch.optim.SGD(model.parameters(), lr=learning_rate)\n",
    "# 记录损失\n",
    "train_mses = []\n",
    "test_mses = []\n"
   ]
  },
  {
   "cell_type": "code",
   "execution_count": 22,
   "metadata": {},
   "outputs": [],
   "source": [
    "# 过程监控\n",
    "def get_mse(dataloader, model):\n",
    "    # 设置模型为评估模式\n",
    "    model.eval()\n",
    "    mses = []\n",
    "    with torch.no_grad():\n",
    "        for batch_x,batch_y in dataloader:\n",
    "            y_pred = model(batch_x)\n",
    "            loss = loss_fn(y_pred, batch_y)\n",
    "            mse = loss.item()\n",
    "            mses.append(mse)\n",
    "    return torch.tensor(mses).mean().item()"
   ]
  },
  {
   "cell_type": "code",
   "execution_count": 23,
   "metadata": {},
   "outputs": [],
   "source": [
    "\"\"\"定义训练过程\"\"\"\n",
    "\n",
    "def train(\n",
    "        model=model, \n",
    "        dataloader = train_dataloader, \n",
    "        optimizer = optimizer,  \n",
    "        loss_fn=loss_fn,\n",
    "        epochs = epochs\n",
    "        ):\n",
    "    \n",
    "    train_mse = get_mse(dataloader=train_dataloader,model=model)\n",
    "    test_mse = get_mse(dataloader=test_dataloader,model=model)\n",
    "\n",
    "    train_mses.append(train_mse)\n",
    "    test_mses.append(test_mse)\n",
    "\n",
    "    print(f\"在训练之前，模型的在训练集和测试集上的损失为 {train_mse:.4f} {test_mse:.4f}\")\n",
    "    \n",
    "    \n",
    "    for epoch in range(epochs):\n",
    "        # 设置为训练模式\n",
    "        model.train()\n",
    "        for batch_idx,(batch_X,batch_y) in enumerate(dataloader):\n",
    "            # print(f\"当前正在训练 {epoch+1} 轮 当前批次为 {batch_idx+1}\")\n",
    "            # 正向传播\n",
    "            y_pred = model(batch_X)\n",
    "            # 计算损失\n",
    "            loss = loss_fn(y_pred,batch_y)\n",
    "            # 反向传播\n",
    "            loss.backward()\n",
    "            # 优化一步\n",
    "            optimizer.step()\n",
    "            # 清空梯度\n",
    "            optimizer.zero_grad()\n",
    "        # 本轮训练完成之后，计算mse\n",
    "        train_mse = get_mse(dataloader=train_dataloader,model=model)\n",
    "        test_mse = get_mse(dataloader=test_dataloader,model=model)\n",
    "        train_mses.append(train_mse)\n",
    "        test_mses.append(test_mse)\n",
    "        print(f\"当前正在训练 {epoch+1} 轮 当前训练集损失为 {train_mse:.4f} 当前测试集损失为 {test_mse:.4f}\")\n",
    "        # print(f\"当前正在训练 {epoch+1} 轮 当前损失为 {loss.item()}\")\n"
   ]
  },
  {
   "cell_type": "code",
   "execution_count": 24,
   "metadata": {},
   "outputs": [
    {
     "name": "stdout",
     "output_type": "stream",
     "text": [
      "在训练之前，模型的在训练集和测试集上的损失为 42919.6172 40433.4531\n",
      "当前正在训练 1 轮 当前训练集损失为 632.1267 当前测试集损失为 771.1803\n",
      "当前正在训练 2 轮 当前训练集损失为 239.7838 当前测试集损失为 376.2807\n",
      "当前正在训练 3 轮 当前训练集损失为 134.4661 当前测试集损失为 269.8095\n",
      "当前正在训练 4 轮 当前训练集损失为 110.6756 当前测试集损失为 251.9476\n",
      "当前正在训练 5 轮 当前训练集损失为 98.6247 当前测试集损失为 238.9331\n",
      "当前正在训练 6 轮 当前训练集损失为 98.7212 当前测试集损失为 239.8329\n",
      "当前正在训练 7 轮 当前训练集损失为 94.8735 当前测试集损失为 244.8241\n",
      "当前正在训练 8 轮 当前训练集损失为 87.3571 当前测试集损失为 234.0539\n",
      "当前正在训练 9 轮 当前训练集损失为 89.7654 当前测试集损失为 244.0027\n",
      "当前正在训练 10 轮 当前训练集损失为 85.3544 当前测试集损失为 238.7961\n",
      "当前正在训练 11 轮 当前训练集损失为 84.2275 当前测试集损失为 239.1479\n",
      "当前正在训练 12 轮 当前训练集损失为 85.0104 当前测试集损失为 242.8803\n",
      "当前正在训练 13 轮 当前训练集损失为 82.4524 当前测试集损失为 241.8330\n",
      "当前正在训练 14 轮 当前训练集损失为 80.5790 当前测试集损失为 243.6412\n",
      "当前正在训练 15 轮 当前训练集损失为 81.4139 当前测试集损失为 247.7670\n",
      "当前正在训练 16 轮 当前训练集损失为 77.8616 当前测试集损失为 246.3548\n",
      "当前正在训练 17 轮 当前训练集损失为 77.2874 当前测试集损失为 238.5093\n",
      "当前正在训练 18 轮 当前训练集损失为 74.1866 当前测试集损失为 242.0536\n",
      "当前正在训练 19 轮 当前训练集损失为 75.9346 当前测试集损失为 241.5382\n",
      "当前正在训练 20 轮 当前训练集损失为 73.2551 当前测试集损失为 241.2853\n",
      "当前正在训练 21 轮 当前训练集损失为 71.5222 当前测试集损失为 243.6376\n",
      "当前正在训练 22 轮 当前训练集损失为 76.6544 当前测试集损失为 245.8726\n",
      "当前正在训练 23 轮 当前训练集损失为 72.8701 当前测试集损失为 245.5175\n",
      "当前正在训练 24 轮 当前训练集损失为 69.0877 当前测试集损失为 246.6832\n",
      "当前正在训练 25 轮 当前训练集损失为 65.2636 当前测试集损失为 241.2792\n",
      "当前正在训练 26 轮 当前训练集损失为 63.7818 当前测试集损失为 240.5486\n",
      "当前正在训练 27 轮 当前训练集损失为 68.4706 当前测试集损失为 246.1877\n",
      "当前正在训练 28 轮 当前训练集损失为 65.3163 当前测试集损失为 241.4569\n",
      "当前正在训练 29 轮 当前训练集损失为 67.1350 当前测试集损失为 246.5498\n",
      "当前正在训练 30 轮 当前训练集损失为 63.2206 当前测试集损失为 247.5590\n",
      "当前正在训练 31 轮 当前训练集损失为 64.6801 当前测试集损失为 247.2292\n",
      "当前正在训练 32 轮 当前训练集损失为 64.3954 当前测试集损失为 249.1971\n",
      "当前正在训练 33 轮 当前训练集损失为 64.4325 当前测试集损失为 246.9573\n",
      "当前正在训练 34 轮 当前训练集损失为 60.6342 当前测试集损失为 247.4646\n",
      "当前正在训练 35 轮 当前训练集损失为 60.8971 当前测试集损失为 249.7158\n",
      "当前正在训练 36 轮 当前训练集损失为 59.6986 当前测试集损失为 243.6858\n",
      "当前正在训练 37 轮 当前训练集损失为 59.6779 当前测试集损失为 249.8038\n",
      "当前正在训练 38 轮 当前训练集损失为 63.2636 当前测试集损失为 250.7433\n",
      "当前正在训练 39 轮 当前训练集损失为 60.4133 当前测试集损失为 245.0811\n",
      "当前正在训练 40 轮 当前训练集损失为 57.4031 当前测试集损失为 250.1429\n",
      "当前正在训练 41 轮 当前训练集损失为 58.1740 当前测试集损失为 249.6318\n",
      "当前正在训练 42 轮 当前训练集损失为 57.1043 当前测试集损失为 248.2737\n",
      "当前正在训练 43 轮 当前训练集损失为 57.5539 当前测试集损失为 251.4634\n",
      "当前正在训练 44 轮 当前训练集损失为 56.2901 当前测试集损失为 249.8459\n",
      "当前正在训练 45 轮 当前训练集损失为 56.5292 当前测试集损失为 251.1251\n",
      "当前正在训练 46 轮 当前训练集损失为 54.6795 当前测试集损失为 247.0868\n",
      "当前正在训练 47 轮 当前训练集损失为 55.7180 当前测试集损失为 247.7020\n",
      "当前正在训练 48 轮 当前训练集损失为 53.2973 当前测试集损失为 252.6052\n",
      "当前正在训练 49 轮 当前训练集损失为 54.7249 当前测试集损失为 251.3531\n",
      "当前正在训练 50 轮 当前训练集损失为 53.6929 当前测试集损失为 250.5323\n",
      "当前正在训练 51 轮 当前训练集损失为 52.6728 当前测试集损失为 248.8710\n",
      "当前正在训练 52 轮 当前训练集损失为 50.8131 当前测试集损失为 252.3117\n",
      "当前正在训练 53 轮 当前训练集损失为 55.3704 当前测试集损失为 256.0526\n",
      "当前正在训练 54 轮 当前训练集损失为 53.5567 当前测试集损失为 254.7030\n",
      "当前正在训练 55 轮 当前训练集损失为 50.9206 当前测试集损失为 253.8442\n",
      "当前正在训练 56 轮 当前训练集损失为 53.6675 当前测试集损失为 259.9295\n",
      "当前正在训练 57 轮 当前训练集损失为 52.3157 当前测试集损失为 256.6748\n",
      "当前正在训练 58 轮 当前训练集损失为 48.7763 当前测试集损失为 256.4821\n",
      "当前正在训练 59 轮 当前训练集损失为 50.3042 当前测试集损失为 256.4554\n",
      "当前正在训练 60 轮 当前训练集损失为 51.0461 当前测试集损失为 256.7143\n",
      "当前正在训练 61 轮 当前训练集损失为 49.9935 当前测试集损失为 254.3471\n",
      "当前正在训练 62 轮 当前训练集损失为 48.3795 当前测试集损失为 252.0203\n",
      "当前正在训练 63 轮 当前训练集损失为 48.5849 当前测试集损失为 255.6305\n",
      "当前正在训练 64 轮 当前训练集损失为 48.0137 当前测试集损失为 252.8258\n",
      "当前正在训练 65 轮 当前训练集损失为 46.4450 当前测试集损失为 255.9484\n",
      "当前正在训练 66 轮 当前训练集损失为 46.5719 当前测试集损失为 258.8785\n",
      "当前正在训练 67 轮 当前训练集损失为 45.0559 当前测试集损失为 255.1958\n",
      "当前正在训练 68 轮 当前训练集损失为 46.7691 当前测试集损失为 257.7529\n",
      "当前正在训练 69 轮 当前训练集损失为 46.3934 当前测试集损失为 260.2072\n",
      "当前正在训练 70 轮 当前训练集损失为 44.1331 当前测试集损失为 259.9220\n",
      "当前正在训练 71 轮 当前训练集损失为 47.2139 当前测试集损失为 263.0139\n",
      "当前正在训练 72 轮 当前训练集损失为 45.2366 当前测试集损失为 257.9851\n",
      "当前正在训练 73 轮 当前训练集损失为 46.1055 当前测试集损失为 262.0931\n",
      "当前正在训练 74 轮 当前训练集损失为 43.1707 当前测试集损失为 256.9554\n",
      "当前正在训练 75 轮 当前训练集损失为 42.5957 当前测试集损失为 259.5349\n",
      "当前正在训练 76 轮 当前训练集损失为 41.9082 当前测试集损失为 257.3611\n",
      "当前正在训练 77 轮 当前训练集损失为 44.0687 当前测试集损失为 258.4728\n",
      "当前正在训练 78 轮 当前训练集损失为 42.1839 当前测试集损失为 256.5737\n",
      "当前正在训练 79 轮 当前训练集损失为 42.1802 当前测试集损失为 258.4580\n",
      "当前正在训练 80 轮 当前训练集损失为 42.9049 当前测试集损失为 262.8675\n",
      "当前正在训练 81 轮 当前训练集损失为 43.4312 当前测试集损失为 261.9259\n",
      "当前正在训练 82 轮 当前训练集损失为 40.3779 当前测试集损失为 259.9267\n",
      "当前正在训练 83 轮 当前训练集损失为 40.5825 当前测试集损失为 262.1539\n",
      "当前正在训练 84 轮 当前训练集损失为 40.7436 当前测试集损失为 262.9536\n",
      "当前正在训练 85 轮 当前训练集损失为 40.7781 当前测试集损失为 261.6815\n",
      "当前正在训练 86 轮 当前训练集损失为 40.8285 当前测试集损失为 265.1523\n",
      "当前正在训练 87 轮 当前训练集损失为 38.9020 当前测试集损失为 265.3236\n",
      "当前正在训练 88 轮 当前训练集损失为 39.3477 当前测试集损失为 262.8375\n",
      "当前正在训练 89 轮 当前训练集损失为 40.9725 当前测试集损失为 264.2820\n",
      "当前正在训练 90 轮 当前训练集损失为 39.1986 当前测试集损失为 262.4605\n",
      "当前正在训练 91 轮 当前训练集损失为 37.9924 当前测试集损失为 264.1260\n",
      "当前正在训练 92 轮 当前训练集损失为 42.4797 当前测试集损失为 268.6269\n",
      "当前正在训练 93 轮 当前训练集损失为 37.8552 当前测试集损失为 263.1822\n",
      "当前正在训练 94 轮 当前训练集损失为 42.0281 当前测试集损失为 268.1174\n",
      "当前正在训练 95 轮 当前训练集损失为 38.7016 当前测试集损失为 265.2980\n",
      "当前正在训练 96 轮 当前训练集损失为 36.9402 当前测试集损失为 266.5318\n",
      "当前正在训练 97 轮 当前训练集损失为 40.0108 当前测试集损失为 266.7664\n",
      "当前正在训练 98 轮 当前训练集损失为 36.4578 当前测试集损失为 263.6619\n",
      "当前正在训练 99 轮 当前训练集损失为 36.7522 当前测试集损失为 266.9186\n",
      "当前正在训练 100 轮 当前训练集损失为 36.5269 当前测试集损失为 267.3790\n"
     ]
    }
   ],
   "source": [
    "train()"
   ]
  },
  {
   "cell_type": "code",
   "execution_count": 25,
   "metadata": {},
   "outputs": [],
   "source": [
    " # 画图\n",
    "from matplotlib import pyplot as plt"
   ]
  },
  {
   "cell_type": "code",
   "execution_count": 26,
   "metadata": {},
   "outputs": [
    {
     "data": {
      "text/plain": [
       "[<matplotlib.lines.Line2D at 0x2a6242430>]"
      ]
     },
     "execution_count": 26,
     "metadata": {},
     "output_type": "execute_result"
    },
    {
     "data": {
      "image/png": "[encoded data removed]",
      "text/plain": [
       "<Figure size 640x480 with 1 Axes>"
      ]
     },
     "metadata": {},
     "output_type": "display_data"
    }
   ],
   "source": [
    "plt.plot(train_mses, label='Train MSE')\n",
    "plt.plot(test_mses, label='Test MSE')   \n",
    "# 这两个线重合了，因为是mock的假数据，数据训练效果太好了。"
   ]
  },
  {
   "cell_type": "code",
   "execution_count": 72,
   "metadata": {},
   "outputs": [
    {
     "data": {
      "text/plain": [
       "Model(\n",
       "  (fc1): Linear(in_features=100, out_features=64, bias=True)\n",
       "  (fc2): Linear(in_features=64, out_features=1, bias=True)\n",
       ")"
      ]
     },
     "execution_count": 72,
     "metadata": {},
     "output_type": "execute_result"
    }
   ],
   "source": [
    "\"\"\"模型的保存与加载\"\"\"\n",
    "model"
   ]
  },
  {
   "cell_type": "code",
   "execution_count": null,
   "metadata": {},
   "outputs": [],
   "source": [
    "# 把模型的网络结构和权重保存在一起的\n",
    "import joblib\n",
    "joblib.dump(model, 'model.pkl')"
   ]
  },
  {
   "cell_type": "code",
   "execution_count": null,
   "metadata": {},
   "outputs": [],
   "source": [
    "# 把模型的网络结构和权重保存在一起的\n",
    "torch.save(model, 'model.torch')"
   ]
  },
  {
   "cell_type": "code",
   "execution_count": null,
   "metadata": {},
   "outputs": [],
   "source": [
    "# 怎么把模型的网络结构和权重分开保存呢？\n",
    "# 只保存权重\n",
    "torch.save(model.state_dict(), 'model.pth')"
   ]
  },
  {
   "cell_type": "code",
   "execution_count": null,
   "metadata": {},
   "outputs": [],
   "source": [
    "# 加载模型\n",
    "model1 = Model()\n",
    "model1.load_state_dict(torch.load('model.pth'))"
   ]
  },
  {
   "cell_type": "code",
   "execution_count": 30,
   "metadata": {},
   "outputs": [],
   "source": [
    "# 推理\n",
    "def predit(X,model=model):\n",
    "    if not isinstance(X,torch.Tensor):\n",
    "        X = torch.tensor(X)\n",
    "    if X.dim() != 2:\n",
    "        raise ValueError('X must be a 2D tensor')\n",
    "    \n",
    "    # 数据预处理\n",
    "    X = (X - torch.tensor(mu,dtype=torch.float32)) / torch.tensor(sigma,dtype=torch.float32)\n",
    "\n",
    "    # 评估模式\n",
    "    model.eval()\n",
    "\n",
    "    with torch.no_grad():\n",
    "        y_pred = model(X)\n",
    "    \n",
    "    return y_pred\n"
   ]
  },
  {
   "cell_type": "code",
   "execution_count": 34,
   "metadata": {},
   "outputs": [
    {
     "name": "stdout",
     "output_type": "stream",
     "text": [
      "预测结果为：tensor([[42.6767]])，真实结果为：tensor([46.6686])\n"
     ]
    }
   ],
   "source": [
    "x_to_test,y_to_test = test_dataset[0]\n",
    "y_pred = predit(X=x_to_test.unsqueeze(dim=0))\n",
    "print(f'预测结果为：{y_pred}，真实结果为：{y_to_test}')"
   ]
  }
 ],
 "metadata": {
  "kernelspec": {
   "display_name": ".venv",
   "language": "python",
   "name": "python3"
  },
  "language_info": {
   "codemirror_mode": {
    "name": "ipython",
    "version": 3
   },
   "file_extension": ".py",
   "mimetype": "text/x-python",
   "name": "python",
   "nbconvert_exporter": "python",
   "pygments_lexer": "ipython3",
   "version": "3.9.18"
  }
 },
 "nbformat": 4,
 "nbformat_minor": 2
}
