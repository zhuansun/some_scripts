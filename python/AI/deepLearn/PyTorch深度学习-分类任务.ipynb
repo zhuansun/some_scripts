{
 "cells": [
  {
   "cell_type": "code",
   "execution_count": 27,
   "metadata": {},
   "outputs": [],
   "source": [
    "import torch\n",
    "from torch.utils.data import Dataset\n",
    "from torch.utils.data import DataLoader\n",
    "from sklearn.datasets import make_classification\n",
    "from sklearn.model_selection import train_test_split\n",
    "import numpy as np"
   ]
  },
  {
   "cell_type": "code",
   "execution_count": 28,
   "metadata": {},
   "outputs": [],
   "source": [
    "# 准备数据\n",
    "X, y = make_classification(n_samples=10000, n_features=20, n_informative=10, n_classes=5, random_state=0)"
   ]
  },
  {
   "cell_type": "code",
   "execution_count": 29,
   "metadata": {},
   "outputs": [],
   "source": [
    "# 人为增加噪声\n",
    "np.random.seed(0)\n",
    "nosie = np.random.randn(*X.shape) * 0.1\n",
    "# 噪声加在X上，这是一个分类问题，y是类别，没法加噪声\n",
    "X += nosie"
   ]
  },
  {
   "cell_type": "code",
   "execution_count": 30,
   "metadata": {},
   "outputs": [],
   "source": [
    "# 拆分数据集\n",
    "X_train,X_test,y_train,y_test = train_test_split(X,y,test_size=0.2,random_state=0)"
   ]
  },
  {
   "cell_type": "code",
   "execution_count": 31,
   "metadata": {},
   "outputs": [],
   "source": [
    "# 数据预处理\n",
    "mu = X_train.mean(axis=0)\n",
    "sigma = X_train.std(axis=0) + 1e-10\n",
    "X_train = (X_train - mu) / sigma\n",
    "X_test = (X_test - mu) / sigma"
   ]
  },
  {
   "cell_type": "code",
   "execution_count": 32,
   "metadata": {},
   "outputs": [],
   "source": [
    "class MyDataset(Dataset):\n",
    "    def __init__(self, X, y):\n",
    "        \"\"\"\n",
    "            初始化\n",
    "        \"\"\"\n",
    "        self.X = X\n",
    "        self.y = y\n",
    "\n",
    "    def __len__(self):\n",
    "        \"\"\"\n",
    "            返回数据集中样本的总个数\n",
    "        \"\"\"\n",
    "        return len(self.X)\n",
    "\n",
    "    def __getitem__(self, idx):\n",
    "        \"\"\"\n",
    "            用于索引数据\n",
    "            - 注意：参与计算的必须是float32类型\n",
    "            - 注意：索引的类型必须要是int64或者long的\n",
    "        \"\"\"\n",
    "        # 特征数据是float32类型\n",
    "        x_idx = torch.tensor(data=self.X[idx], dtype=torch.float32)\n",
    "        # 标签数据是long类型\n",
    "        y_idx = torch.tensor(data=self.y[idx], dtype=torch.long)\n",
    "        return x_idx, y_idx"
   ]
  },
  {
   "cell_type": "code",
   "execution_count": 33,
   "metadata": {},
   "outputs": [],
   "source": [
    "# 打包训练集\n",
    "train_dataset = MyDataset(X=X_train, y=y_train)\n",
    "# 定义一个数据集的加载器\n",
    "# shuffle 表示是否打乱数据\n",
    "# 如果数据集最后一批不够了，有两个策略，一种是丢弃，另一种是直接作为最后一批，通过drop_last=True来控制\n",
    "# 普通的生成器只能被遍历一次；dataloader也是一个生成器，但是可以被遍历多次\n",
    "train_dataloader = DataLoader(train_dataset, batch_size=128, shuffle=True)"
   ]
  },
  {
   "cell_type": "code",
   "execution_count": 34,
   "metadata": {},
   "outputs": [],
   "source": [
    "# 打包测试集\n",
    "test_dataset = MyDataset(X=X_test, y=y_test)\n",
    "test_dataloader = DataLoader(test_dataset, batch_size=256, shuffle=False)"
   ]
  },
  {
   "cell_type": "code",
   "execution_count": 40,
   "metadata": {},
   "outputs": [],
   "source": [
    "# 自定义模型\n",
    "from torch import nn\n",
    "# 模型继承自 nn.Module\n",
    "class Model(nn.Module):\n",
    "    \"\"\"自定义深度学习模型\"\"\"\n",
    "    def __init__(self,n_features,n_classes) -> None:\n",
    "        \"\"\"初始化\"\"\"\n",
    "        super(Model,self).__init__()\n",
    "        self.n_features = n_features\n",
    "        self.n_classes = n_classes\n",
    "        # 定义一个线性层，可以把100个特征变成了1个特征\n",
    "        self.fc1 = nn.Linear(in_features=self.n_features, out_features=8)\n",
    "        self.fc2 = nn.Linear(in_features=8, out_features=self.n_classes)\n",
    "\n",
    "    def forward(self, x):\n",
    "        \"\"\"\n",
    "        正向传播过程\n",
    "            - x: 输入数据，形状为(batch_size, 100)\n",
    "            - 返回值: 输出数据，形状为(batch_size, 1)\n",
    "        \"\"\"\n",
    "        x = self.fc1(x)\n",
    "        x = x.relu()\n",
    "        x = self.fc2(x)\n",
    "        return x\n",
    "        "
   ]
  },
  {
   "cell_type": "code",
   "execution_count": 49,
   "metadata": {},
   "outputs": [],
   "source": [
    "# 创建模型\n",
    "model = Model(n_features=20,n_classes=5)\n",
    "epochs = 100\n",
    "learning_rate = 1e-1\n",
    "# 分类问题不能使用MSE了\n",
    "loss_fn = nn.CrossEntropyLoss()\n",
    "# 优化器\n",
    "# 优化器做了两个步骤：自动求偏导，清空梯度\n",
    "optimizer = torch.optim.SGD(model.parameters(), lr=learning_rate)\n",
    "# 监控准确率\n",
    "train_accs = []\n",
    "test_accs = []"
   ]
  },
  {
   "cell_type": "code",
   "execution_count": 53,
   "metadata": {},
   "outputs": [],
   "source": [
    "# 过程监控\n",
    "def get_acc(dataloader, model):\n",
    "    # 设置模型为评估模式\n",
    "    model.eval()\n",
    "    accs = []\n",
    "    with torch.no_grad():\n",
    "        for batch_x,batch_y in dataloader:\n",
    "            # 原始输出\n",
    "            y_pred = model(batch_x)\n",
    "            # 输出类别\n",
    "            y_pred = y_pred.argmax(dim=-1)\n",
    "            # 准确率\n",
    "            acc = (y_pred == batch_y).to(dtype=torch.float32).mean().item()\n",
    "            accs.append(acc)\n",
    "    return torch.tensor(data=accs,dtype=torch.float32).mean().item()"
   ]
  },
  {
   "cell_type": "code",
   "execution_count": 54,
   "metadata": {},
   "outputs": [],
   "source": [
    "\"\"\"定义训练过程\"\"\"\n",
    "\n",
    "def train(\n",
    "        model=model, \n",
    "        dataloader = train_dataloader, \n",
    "        optimizer = optimizer,  \n",
    "        loss_fn=loss_fn,\n",
    "        epochs = epochs\n",
    "        ):\n",
    "    \n",
    "    train_acc = get_acc(dataloader=train_dataloader,model=model)\n",
    "    test_acc = get_acc(dataloader=test_dataloader,model=model)\n",
    "\n",
    "    train_accs.append(train_acc)\n",
    "    test_accs.append(test_acc)\n",
    "\n",
    "    print(f\"在训练之前，模型的在训练集和测试集上的 acc 为 {train_acc:.4f} {test_acc:.4f}\")\n",
    "    \n",
    "    \n",
    "    for epoch in range(epochs):\n",
    "        # 设置为训练模式\n",
    "        model.train()\n",
    "        for batch_idx,(batch_X,batch_y) in enumerate(dataloader):\n",
    "            # print(f\"当前正在训练 {epoch+1} 轮 当前批次为 {batch_idx+1}\")\n",
    "            # 正向传播\n",
    "            y_pred = model(batch_X)\n",
    "            # 计算损失\n",
    "            loss = loss_fn(y_pred,batch_y)\n",
    "            # 反向传播\n",
    "            loss.backward()\n",
    "            # 优化一步\n",
    "            optimizer.step()\n",
    "            # 清空梯度\n",
    "            optimizer.zero_grad()\n",
    "        # 本轮训练完成之后，计算mse\n",
    "        train_acc = get_acc(dataloader=train_dataloader,model=model)\n",
    "        test_acc = get_acc(dataloader=test_dataloader,model=model)\n",
    "        train_accs.append(train_acc)\n",
    "        test_accs.append(test_acc)\n",
    "        print(f\"当前正在训练 {epoch+1} 轮 当前训练集 acc 为 {train_acc:.4f} 当前测试集 acc 为 {test_acc:.4f}\")\n",
    "        \n"
   ]
  },
  {
   "cell_type": "code",
   "execution_count": 55,
   "metadata": {},
   "outputs": [
    {
     "name": "stdout",
     "output_type": "stream",
     "text": [
      "在训练之前，模型的在训练集和测试集上的 acc 为 0.7204 0.7303\n",
      "当前正在训练 1 轮 当前训练集 acc 为 0.7211 当前测试集 acc 为 0.7284\n",
      "当前正在训练 2 轮 当前训练集 acc 为 0.7238 当前测试集 acc 为 0.7302\n",
      "当前正在训练 3 轮 当前训练集 acc 为 0.7228 当前测试集 acc 为 0.7287\n",
      "当前正在训练 4 轮 当前训练集 acc 为 0.7242 当前测试集 acc 为 0.7310\n",
      "当前正在训练 5 轮 当前训练集 acc 为 0.7230 当前测试集 acc 为 0.7288\n",
      "当前正在训练 6 轮 当前训练集 acc 为 0.7226 当前测试集 acc 为 0.7289\n",
      "当前正在训练 7 轮 当前训练集 acc 为 0.7225 当前测试集 acc 为 0.7297\n",
      "当前正在训练 8 轮 当前训练集 acc 为 0.7228 当前测试集 acc 为 0.7254\n",
      "当前正在训练 9 轮 当前训练集 acc 为 0.7257 当前测试集 acc 为 0.7328\n",
      "当前正在训练 10 轮 当前训练集 acc 为 0.7251 当前测试集 acc 为 0.7326\n",
      "当前正在训练 11 轮 当前训练集 acc 为 0.7235 当前测试集 acc 为 0.7270\n",
      "当前正在训练 12 轮 当前训练集 acc 为 0.7225 当前测试集 acc 为 0.7293\n",
      "当前正在训练 13 轮 当前训练集 acc 为 0.7227 当前测试集 acc 为 0.7292\n",
      "当前正在训练 14 轮 当前训练集 acc 为 0.7231 当前测试集 acc 为 0.7271\n",
      "当前正在训练 15 轮 当前训练集 acc 为 0.7257 当前测试集 acc 为 0.7240\n",
      "当前正在训练 16 轮 当前训练集 acc 为 0.7250 当前测试集 acc 为 0.7287\n",
      "当前正在训练 17 轮 当前训练集 acc 为 0.7267 当前测试集 acc 为 0.7329\n",
      "当前正在训练 18 轮 当前训练集 acc 为 0.7274 当前测试集 acc 为 0.7316\n",
      "当前正在训练 19 轮 当前训练集 acc 为 0.7266 当前测试集 acc 为 0.7276\n",
      "当前正在训练 20 轮 当前训练集 acc 为 0.7226 当前测试集 acc 为 0.7294\n",
      "当前正在训练 21 轮 当前训练集 acc 为 0.7274 当前测试集 acc 为 0.7346\n",
      "当前正在训练 22 轮 当前训练集 acc 为 0.7243 当前测试集 acc 为 0.7339\n",
      "当前正在训练 23 轮 当前训练集 acc 为 0.7243 当前测试集 acc 为 0.7332\n",
      "当前正在训练 24 轮 当前训练集 acc 为 0.7268 当前测试集 acc 为 0.7290\n",
      "当前正在训练 25 轮 当前训练集 acc 为 0.7262 当前测试集 acc 为 0.7307\n",
      "当前正在训练 26 轮 当前训练集 acc 为 0.7274 当前测试集 acc 为 0.7354\n",
      "当前正在训练 27 轮 当前训练集 acc 为 0.7266 当前测试集 acc 为 0.7353\n",
      "当前正在训练 28 轮 当前训练集 acc 为 0.7258 当前测试集 acc 为 0.7355\n",
      "当前正在训练 29 轮 当前训练集 acc 为 0.7237 当前测试集 acc 为 0.7339\n",
      "当前正在训练 30 轮 当前训练集 acc 为 0.7307 当前测试集 acc 为 0.7310\n",
      "当前正在训练 31 轮 当前训练集 acc 为 0.7274 当前测试集 acc 为 0.7281\n",
      "当前正在训练 32 轮 当前训练集 acc 为 0.7271 当前测试集 acc 为 0.7294\n",
      "当前正在训练 33 轮 当前训练集 acc 为 0.7300 当前测试集 acc 为 0.7294\n",
      "当前正在训练 34 轮 当前训练集 acc 为 0.7278 当前测试集 acc 为 0.7372\n",
      "当前正在训练 35 轮 当前训练集 acc 为 0.7261 当前测试集 acc 为 0.7376\n",
      "当前正在训练 36 轮 当前训练集 acc 为 0.7273 当前测试集 acc 为 0.7344\n",
      "当前正在训练 37 轮 当前训练集 acc 为 0.7274 当前测试集 acc 为 0.7301\n",
      "当前正在训练 38 轮 当前训练集 acc 为 0.7252 当前测试集 acc 为 0.7329\n",
      "当前正在训练 39 轮 当前训练集 acc 为 0.7300 当前测试集 acc 为 0.7314\n",
      "当前正在训练 40 轮 当前训练集 acc 为 0.7299 当前测试集 acc 为 0.7367\n",
      "当前正在训练 41 轮 当前训练集 acc 为 0.7293 当前测试集 acc 为 0.7358\n",
      "当前正在训练 42 轮 当前训练集 acc 为 0.7313 当前测试集 acc 为 0.7339\n",
      "当前正在训练 43 轮 当前训练集 acc 为 0.7279 当前测试集 acc 为 0.7332\n",
      "当前正在训练 44 轮 当前训练集 acc 为 0.7284 当前测试集 acc 为 0.7400\n",
      "当前正在训练 45 轮 当前训练集 acc 为 0.7290 当前测试集 acc 为 0.7371\n",
      "当前正在训练 46 轮 当前训练集 acc 为 0.7279 当前测试集 acc 为 0.7389\n",
      "当前正在训练 47 轮 当前训练集 acc 为 0.7297 当前测试集 acc 为 0.7383\n",
      "当前正在训练 48 轮 当前训练集 acc 为 0.7297 当前测试集 acc 为 0.7383\n",
      "当前正在训练 49 轮 当前训练集 acc 为 0.7287 当前测试集 acc 为 0.7305\n",
      "当前正在训练 50 轮 当前训练集 acc 为 0.7309 当前测试集 acc 为 0.7373\n",
      "当前正在训练 51 轮 当前训练集 acc 为 0.7262 当前测试集 acc 为 0.7378\n",
      "当前正在训练 52 轮 当前训练集 acc 为 0.7298 当前测试集 acc 为 0.7347\n",
      "当前正在训练 53 轮 当前训练集 acc 为 0.7268 当前测试集 acc 为 0.7359\n",
      "当前正在训练 54 轮 当前训练集 acc 为 0.7295 当前测试集 acc 为 0.7405\n",
      "当前正在训练 55 轮 当前训练集 acc 为 0.7299 当前测试集 acc 为 0.7327\n",
      "当前正在训练 56 轮 当前训练集 acc 为 0.7308 当前测试集 acc 为 0.7348\n",
      "当前正在训练 57 轮 当前训练集 acc 为 0.7278 当前测试集 acc 为 0.7395\n",
      "当前正在训练 58 轮 当前训练集 acc 为 0.7328 当前测试集 acc 为 0.7397\n",
      "当前正在训练 59 轮 当前训练集 acc 为 0.7264 当前测试集 acc 为 0.7342\n",
      "当前正在训练 60 轮 当前训练集 acc 为 0.7316 当前测试集 acc 为 0.7444\n",
      "当前正在训练 61 轮 当前训练集 acc 为 0.7281 当前测试集 acc 为 0.7338\n",
      "当前正在训练 62 轮 当前训练集 acc 为 0.7285 当前测试集 acc 为 0.7398\n",
      "当前正在训练 63 轮 当前训练集 acc 为 0.7282 当前测试集 acc 为 0.7408\n",
      "当前正在训练 64 轮 当前训练集 acc 为 0.7313 当前测试集 acc 为 0.7379\n",
      "当前正在训练 65 轮 当前训练集 acc 为 0.7304 当前测试集 acc 为 0.7375\n",
      "当前正在训练 66 轮 当前训练集 acc 为 0.7287 当前测试集 acc 为 0.7408\n",
      "当前正在训练 67 轮 当前训练集 acc 为 0.7284 当前测试集 acc 为 0.7338\n",
      "当前正在训练 68 轮 当前训练集 acc 为 0.7314 当前测试集 acc 为 0.7311\n",
      "当前正在训练 69 轮 当前训练集 acc 为 0.7294 当前测试集 acc 为 0.7420\n",
      "当前正在训练 70 轮 当前训练集 acc 为 0.7326 当前测试集 acc 为 0.7356\n",
      "当前正在训练 71 轮 当前训练集 acc 为 0.7314 当前测试集 acc 为 0.7395\n",
      "当前正在训练 72 轮 当前训练集 acc 为 0.7302 当前测试集 acc 为 0.7327\n",
      "当前正在训练 73 轮 当前训练集 acc 为 0.7298 当前测试集 acc 为 0.7337\n",
      "当前正在训练 74 轮 当前训练集 acc 为 0.7305 当前测试集 acc 为 0.7355\n",
      "当前正在训练 75 轮 当前训练集 acc 为 0.7293 当前测试集 acc 为 0.7381\n",
      "当前正在训练 76 轮 当前训练集 acc 为 0.7335 当前测试集 acc 为 0.7349\n",
      "当前正在训练 77 轮 当前训练集 acc 为 0.7343 当前测试集 acc 为 0.7382\n",
      "当前正在训练 78 轮 当前训练集 acc 为 0.7329 当前测试集 acc 为 0.7353\n",
      "当前正在训练 79 轮 当前训练集 acc 为 0.7312 当前测试集 acc 为 0.7364\n",
      "当前正在训练 80 轮 当前训练集 acc 为 0.7320 当前测试集 acc 为 0.7339\n",
      "当前正在训练 81 轮 当前训练集 acc 为 0.7338 当前测试集 acc 为 0.7289\n",
      "当前正在训练 82 轮 当前训练集 acc 为 0.7326 当前测试集 acc 为 0.7384\n",
      "当前正在训练 83 轮 当前训练集 acc 为 0.7305 当前测试集 acc 为 0.7420\n",
      "当前正在训练 84 轮 当前训练集 acc 为 0.7334 当前测试集 acc 为 0.7390\n",
      "当前正在训练 85 轮 当前训练集 acc 为 0.7312 当前测试集 acc 为 0.7404\n",
      "当前正在训练 86 轮 当前训练集 acc 为 0.7338 当前测试集 acc 为 0.7390\n",
      "当前正在训练 87 轮 当前训练集 acc 为 0.7346 当前测试集 acc 为 0.7376\n",
      "当前正在训练 88 轮 当前训练集 acc 为 0.7330 当前测试集 acc 为 0.7337\n",
      "当前正在训练 89 轮 当前训练集 acc 为 0.7340 当前测试集 acc 为 0.7305\n",
      "当前正在训练 90 轮 当前训练集 acc 为 0.7334 当前测试集 acc 为 0.7402\n",
      "当前正在训练 91 轮 当前训练集 acc 为 0.7334 当前测试集 acc 为 0.7296\n",
      "当前正在训练 92 轮 当前训练集 acc 为 0.7344 当前测试集 acc 为 0.7323\n",
      "当前正在训练 93 轮 当前训练集 acc 为 0.7335 当前测试集 acc 为 0.7354\n",
      "当前正在训练 94 轮 当前训练集 acc 为 0.7330 当前测试集 acc 为 0.7342\n",
      "当前正在训练 95 轮 当前训练集 acc 为 0.7351 当前测试集 acc 为 0.7276\n",
      "当前正在训练 96 轮 当前训练集 acc 为 0.7346 当前测试集 acc 为 0.7338\n",
      "当前正在训练 97 轮 当前训练集 acc 为 0.7300 当前测试集 acc 为 0.7371\n",
      "当前正在训练 98 轮 当前训练集 acc 为 0.7325 当前测试集 acc 为 0.7333\n",
      "当前正在训练 99 轮 当前训练集 acc 为 0.7313 当前测试集 acc 为 0.7349\n",
      "当前正在训练 100 轮 当前训练集 acc 为 0.7305 当前测试集 acc 为 0.7336\n"
     ]
    }
   ],
   "source": [
    "train()"
   ]
  },
  {
   "cell_type": "code",
   "execution_count": 25,
   "metadata": {},
   "outputs": [],
   "source": [
    " # 画图\n",
    "from matplotlib import pyplot as plt"
   ]
  },
  {
   "cell_type": "code",
   "execution_count": 26,
   "metadata": {},
   "outputs": [
    {
     "data": {
      "text/plain": [
       "[<matplotlib.lines.Line2D at 0x2a6242430>]"
      ]
     },
     "execution_count": 26,
     "metadata": {},
     "output_type": "execute_result"
    },
    {
     "data": {
      "image/png": "[encoded data removed]",
      "text/plain": [
       "<Figure size 640x480 with 1 Axes>"
      ]
     },
     "metadata": {},
     "output_type": "display_data"
    }
   ],
   "source": [
    "plt.plot(train_mses, label='Train MSE')\n",
    "plt.plot(test_mses, label='Test MSE')   \n",
    "# 这两个线重合了，因为是mock的假数据，数据训练效果太好了。"
   ]
  },
  {
   "cell_type": "code",
   "execution_count": 72,
   "metadata": {},
   "outputs": [
    {
     "data": {
      "text/plain": [
       "Model(\n",
       "  (fc1): Linear(in_features=100, out_features=64, bias=True)\n",
       "  (fc2): Linear(in_features=64, out_features=1, bias=True)\n",
       ")"
      ]
     },
     "execution_count": 72,
     "metadata": {},
     "output_type": "execute_result"
    }
   ],
   "source": [
    "\"\"\"模型的保存与加载\"\"\"\n",
    "model"
   ]
  },
  {
   "cell_type": "code",
   "execution_count": null,
   "metadata": {},
   "outputs": [],
   "source": [
    "# 把模型的网络结构和权重保存在一起的\n",
    "import joblib\n",
    "joblib.dump(model, 'model.pkl')"
   ]
  },
  {
   "cell_type": "code",
   "execution_count": null,
   "metadata": {},
   "outputs": [],
   "source": [
    "# 把模型的网络结构和权重保存在一起的\n",
    "torch.save(model, 'model.torch')"
   ]
  },
  {
   "cell_type": "code",
   "execution_count": null,
   "metadata": {},
   "outputs": [],
   "source": [
    "# 怎么把模型的网络结构和权重分开保存呢？\n",
    "# 只保存权重\n",
    "torch.save(model.state_dict(), 'model.pth')"
   ]
  },
  {
   "cell_type": "code",
   "execution_count": null,
   "metadata": {},
   "outputs": [],
   "source": [
    "# 加载模型\n",
    "model1 = Model()\n",
    "model1.load_state_dict(torch.load('model.pth'))"
   ]
  },
  {
   "cell_type": "code",
   "execution_count": 30,
   "metadata": {},
   "outputs": [],
   "source": [
    "# 推理\n",
    "def predit(X,model=model):\n",
    "    if not isinstance(X,torch.Tensor):\n",
    "        X = torch.tensor(X)\n",
    "    if X.dim() != 2:\n",
    "        raise ValueError('X must be a 2D tensor')\n",
    "    \n",
    "    # 数据预处理\n",
    "    X = (X - torch.tensor(mu,dtype=torch.float32)) / torch.tensor(sigma,dtype=torch.float32)\n",
    "\n",
    "    # 评估模式\n",
    "    model.eval()\n",
    "\n",
    "    with torch.no_grad():\n",
    "        y_pred = model(X)\n",
    "    \n",
    "    return y_pred\n"
   ]
  },
  {
   "cell_type": "code",
   "execution_count": 34,
   "metadata": {},
   "outputs": [
    {
     "name": "stdout",
     "output_type": "stream",
     "text": [
      "预测结果为：tensor([[42.6767]])，真实结果为：tensor([46.6686])\n"
     ]
    }
   ],
   "source": [
    "x_to_test,y_to_test = test_dataset[0]\n",
    "y_pred = predit(X=x_to_test.unsqueeze(dim=0))\n",
    "print(f'预测结果为：{y_pred}，真实结果为：{y_to_test}')"
   ]
  },
  {
   "cell_type": "code",
   "execution_count": null,
   "metadata": {},
   "outputs": [],
   "source": []
  },
  {
   "cell_type": "code",
   "execution_count": null,
   "metadata": {},
   "outputs": [],
   "source": []
  },
  {
   "cell_type": "code",
   "execution_count": 9,
   "metadata": {},
   "outputs": [],
   "source": [
    "# 假设模拟模型的输出是5个值。\n",
    "# 但是这5个值并不是概率。因为模型输出的5个值是任意的。所以我们要把这个结果处理成概率。\n",
    "y0 = torch.randn(5)"
   ]
  },
  {
   "cell_type": "code",
   "execution_count": 10,
   "metadata": {},
   "outputs": [
    {
     "data": {
      "text/plain": [
       "tensor([2.6474, 0.0738, 0.7018, 0.2737, 1.2787])"
      ]
     },
     "execution_count": 10,
     "metadata": {},
     "output_type": "execute_result"
    }
   ],
   "source": [
    "y0"
   ]
  },
  {
   "cell_type": "code",
   "execution_count": 12,
   "metadata": {},
   "outputs": [
    {
     "data": {
      "text/plain": [
       "tensor([0.6383, 0.0487, 0.0912, 0.0594, 0.1624])"
      ]
     },
     "execution_count": 12,
     "metadata": {},
     "output_type": "execute_result"
    }
   ],
   "source": [
    "# 怎么处理呢？ 先非负，在归一\n",
    "torch.exp(y0) / torch.exp(y0).sum()"
   ]
  },
  {
   "cell_type": "code",
   "execution_count": 15,
   "metadata": {},
   "outputs": [],
   "source": [
    "# 可以一步到位，使用softmax做概率模拟\n",
    "y_pred = torch.softmax(y0,dim=0)"
   ]
  },
  {
   "cell_type": "code",
   "execution_count": 16,
   "metadata": {},
   "outputs": [
    {
     "data": {
      "text/plain": [
       "tensor([0.6383, 0.0487, 0.0912, 0.0594, 0.1624])"
      ]
     },
     "execution_count": 16,
     "metadata": {},
     "output_type": "execute_result"
    }
   ],
   "source": [
    "y_pred"
   ]
  },
  {
   "cell_type": "code",
   "execution_count": 17,
   "metadata": {},
   "outputs": [],
   "source": [
    "# 假设真是结果是 第 2 类\n",
    "y_true = 2"
   ]
  },
  {
   "cell_type": "code",
   "execution_count": 18,
   "metadata": {},
   "outputs": [],
   "source": [
    "# 怎么衡量误差呢？\n",
    "# 使用MSE，先把真实结果转成概率的形式\n",
    "y_true = torch.tensor(data=[0,0,1,0,0],dtype=torch.float32)"
   ]
  },
  {
   "cell_type": "code",
   "execution_count": 19,
   "metadata": {},
   "outputs": [
    {
     "data": {
      "text/plain": [
       "tensor([0., 0., 1., 0., 0.])"
      ]
     },
     "execution_count": 19,
     "metadata": {},
     "output_type": "execute_result"
    }
   ],
   "source": [
    "y_true"
   ]
  },
  {
   "cell_type": "code",
   "execution_count": 20,
   "metadata": {},
   "outputs": [
    {
     "data": {
      "text/plain": [
       "tensor([0.6383, 0.0487, 0.0912, 0.0594, 0.1624])"
      ]
     },
     "execution_count": 20,
     "metadata": {},
     "output_type": "execute_result"
    }
   ],
   "source": [
    "y_pred"
   ]
  },
  {
   "cell_type": "code",
   "execution_count": 21,
   "metadata": {},
   "outputs": [
    {
     "data": {
      "text/plain": [
       "tensor(0.2531)"
      ]
     },
     "execution_count": 21,
     "metadata": {},
     "output_type": "execute_result"
    }
   ],
   "source": [
    "((y_true - y_pred) ** 2).mean()"
   ]
  },
  {
   "cell_type": "code",
   "execution_count": 23,
   "metadata": {},
   "outputs": [
    {
     "data": {
      "text/plain": [
       "tensor(2.3946)"
      ]
     },
     "execution_count": 23,
     "metadata": {},
     "output_type": "execute_result"
    }
   ],
   "source": [
    "# 第二种方式衡量误差：交叉熵\n",
    "# 交叉熵：把两个概率的分布求差。处理的是两个概率的分布。从分布的角度处理的。\n",
    "-(y_true * torch.log(y_pred)).sum(dim=-1)"
   ]
  },
  {
   "cell_type": "code",
   "execution_count": 26,
   "metadata": {},
   "outputs": [
    {
     "data": {
      "text/plain": [
       "tensor(2.5272, grad_fn=<NllLossBackward0>)"
      ]
     },
     "execution_count": 26,
     "metadata": {},
     "output_type": "execute_result"
    }
   ],
   "source": [
    "# 交叉熵最简单的一种用法\n",
    "from torch import nn\n",
    "loss_fn = nn.CrossEntropyLoss()\n",
    "# 模拟模型输出（2个样本，每个样本输出5个类别的概率）\n",
    "y_pred = torch.randn(2, 5,requires_grad=True)\n",
    "# 模拟真实结果（2个样本的标签）\n",
    "y_true = torch.randint(5, (2,), dtype=torch.int64)\n",
    "# 交叉熵的计算\n",
    "loss_fn(y_pred, y_true)"
   ]
  },
  {
   "cell_type": "code",
   "execution_count": null,
   "metadata": {},
   "outputs": [],
   "source": []
  }
 ],
 "metadata": {
  "kernelspec": {
   "display_name": ".venv",
   "language": "python",
   "name": "python3"
  },
  "language_info": {
   "codemirror_mode": {
    "name": "ipython",
    "version": 3
   },
   "file_extension": ".py",
   "mimetype": "text/x-python",
   "name": "python",
   "nbconvert_exporter": "python",
   "pygments_lexer": "ipython3",
   "version": "3.9.18"
  }
 },
 "nbformat": 4,
 "nbformat_minor": 2
}
