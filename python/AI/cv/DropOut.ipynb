{
 "cells": [
  {
   "cell_type": "code",
   "execution_count": 1,
   "metadata": {},
   "outputs": [],
   "source": [
    "from torch import nn\n",
    "import  torch"
   ]
  },
  {
   "cell_type": "code",
   "execution_count": 2,
   "metadata": {},
   "outputs": [],
   "source": [
    "X = torch.arange(start=1,end=6,dtype=torch.float32)"
   ]
  },
  {
   "cell_type": "code",
   "execution_count": 3,
   "metadata": {},
   "outputs": [
    {
     "data": {
      "text/plain": [
       "tensor([1., 2., 3., 4., 5.])"
      ]
     },
     "execution_count": 3,
     "metadata": {},
     "output_type": "execute_result"
    }
   ],
   "source": [
    "X"
   ]
  },
  {
   "cell_type": "code",
   "execution_count": 5,
   "metadata": {},
   "outputs": [],
   "source": [
    "do = nn.Dropout(p=0.5)"
   ]
  },
  {
   "cell_type": "code",
   "execution_count": 11,
   "metadata": {},
   "outputs": [
    {
     "data": {
      "text/plain": [
       "tensor([0., 0., 6., 8., 0.])"
      ]
     },
     "execution_count": 11,
     "metadata": {},
     "output_type": "execute_result"
    }
   ],
   "source": [
    "# 默认是 train 模式\n",
    "do(X)\n"
   ]
  },
  {
   "cell_type": "code",
   "execution_count": 12,
   "metadata": {},
   "outputs": [
    {
     "data": {
      "text/plain": [
       "tensor([1., 2., 3., 4., 5.])"
      ]
     },
     "execution_count": 12,
     "metadata": {},
     "output_type": "execute_result"
    }
   ],
   "source": [
    "# 如果是eval模式，DropOut层就不生效，相当于是一个直通层\n",
    "do.eval()\n",
    "do(X)\n"
   ]
  },
  {
   "cell_type": "code",
   "execution_count": null,
   "metadata": {},
   "outputs": [],
   "source": []
  },
  {
   "cell_type": "code",
   "execution_count": 16,
   "metadata": {},
   "outputs": [
    {
     "data": {
      "text/plain": [
       "tensor([[[[-1.1857, -1.1434,  0.2319,  0.3371,  0.6794],\n",
       "          [-0.5545, -0.4193,  0.1802,  0.8924, -1.0151],\n",
       "          [ 0.8451, -0.1540,  1.1839, -1.2667,  0.1003],\n",
       "          [-1.1575,  0.0814, -0.0946, -0.8979,  0.3022],\n",
       "          [-0.3618,  1.7408,  0.6021, -1.2931, -0.0688]],\n",
       "\n",
       "         [[-0.9751, -0.0917, -1.7751,  1.3057,  1.0798],\n",
       "          [-0.8640, -0.0143, -0.6940,  1.9680,  0.7140],\n",
       "          [-1.2921, -1.0902,  0.5372,  0.5501,  2.0266],\n",
       "          [-0.2586,  0.8561,  1.4042,  0.0977, -0.7998],\n",
       "          [-0.3755, -1.1077,  0.6953, -0.5479,  0.4942]],\n",
       "\n",
       "         [[-0.3580, -0.2345, -0.0510, -0.8602, -2.1989],\n",
       "          [ 0.3947, -0.2439,  1.7912,  0.2813, -0.6859],\n",
       "          [ 1.5200, -0.6557,  1.1952, -0.1683,  1.3513],\n",
       "          [ 0.4310, -0.1190, -0.9508,  0.0043,  0.5639],\n",
       "          [-1.1350, -1.1541,  0.2442, -1.1289, -0.1266]]]])"
      ]
     },
     "execution_count": 16,
     "metadata": {},
     "output_type": "execute_result"
    }
   ],
   "source": [
    "X = torch.randn(1,3,5,5)\n",
    "X"
   ]
  },
  {
   "cell_type": "code",
   "execution_count": 14,
   "metadata": {},
   "outputs": [],
   "source": [
    "do = nn.Dropout2d(p=0.5)"
   ]
  },
  {
   "cell_type": "code",
   "execution_count": 15,
   "metadata": {},
   "outputs": [
    {
     "data": {
      "text/plain": [
       "tensor([[[[-0.0000, -0.0000, -0.0000,  0.0000,  0.0000],\n",
       "          [-0.0000, -0.0000, -0.0000, -0.0000,  0.0000],\n",
       "          [ 0.0000,  0.0000, -0.0000, -0.0000,  0.0000],\n",
       "          [-0.0000, -0.0000, -0.0000, -0.0000, -0.0000],\n",
       "          [ 0.0000,  0.0000,  0.0000,  0.0000, -0.0000]],\n",
       "\n",
       "         [[ 0.5456,  2.0859,  1.9406, -1.4822,  1.1378],\n",
       "          [-0.8944,  1.5341,  1.8016, -2.1506, -1.2169],\n",
       "          [ 1.7830, -1.6067,  1.7527,  0.7193, -0.3140],\n",
       "          [-1.5334, -2.2830,  2.1887, -1.5907,  0.1942],\n",
       "          [-0.6058,  1.0250,  1.0956, -0.0460,  0.5932]],\n",
       "\n",
       "         [[-0.8559, -2.3318,  0.6853,  0.9760,  2.3169],\n",
       "          [ 1.5741, -0.9115,  0.8024, -1.1943, -0.3849],\n",
       "          [ 0.9695, -4.8433,  3.1105,  0.9418,  0.3542],\n",
       "          [ 1.0437, -1.5707, -2.3124, -2.0569, -0.1377],\n",
       "          [ 1.4200, -0.0690, -1.7865,  1.4952,  2.0196]]]])"
      ]
     },
     "execution_count": 15,
     "metadata": {},
     "output_type": "execute_result"
    }
   ],
   "source": [
    "do(X)"
   ]
  },
  {
   "cell_type": "code",
   "execution_count": null,
   "metadata": {},
   "outputs": [],
   "source": [
    "# 机器学习里面的标准化\n",
    "from sklearn.preprocessing import StandardScaler"
   ]
  },
  {
   "cell_type": "code",
   "execution_count": null,
   "metadata": {},
   "outputs": [],
   "source": [
    "# 深度学习里的标准化\n",
    "from torch import nn\n",
    "nn.BatchNorm2d()"
   ]
  },
  {
   "cell_type": "code",
   "execution_count": null,
   "metadata": {},
   "outputs": [],
   "source": [
    "# NLP里面的标准化\n",
    "from torch import nn\n",
    "nn.LayerNorm()"
   ]
  }
 ],
 "metadata": {
  "kernelspec": {
   "display_name": ".venv",
   "language": "python",
   "name": "python3"
  },
  "language_info": {
   "codemirror_mode": {
    "name": "ipython",
    "version": 3
   },
   "file_extension": ".py",
   "mimetype": "text/x-python",
   "name": "python",
   "nbconvert_exporter": "python",
   "pygments_lexer": "ipython3",
   "version": "3.9.18"
  }
 },
 "nbformat": 4,
 "nbformat_minor": 2
}
