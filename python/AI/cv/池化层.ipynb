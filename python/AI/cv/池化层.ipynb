{
 "cells": [
  {
   "cell_type": "code",
   "execution_count": 3,
   "metadata": {},
   "outputs": [],
   "source": [
    "import torch\n",
    "from torch import nn"
   ]
  },
  {
   "cell_type": "code",
   "execution_count": 4,
   "metadata": {},
   "outputs": [],
   "source": [
    "# 平均池化【基本不用了】\n",
    "ap2d1 = nn.AvgPool2d(kernel_size=2,stride=2,padding=0)\n",
    "# 最大池化【用的比较多】\n",
    "mp2d1 = nn.MaxPool2d(kernel_size=2,stride=2,padding=0)\n",
    "# 自适应平均池化\n",
    "aap2d1 = nn.AdaptiveAvgPool2d(output_size=(7,7))\n",
    "# 自适应最大池化\n",
    "aap2d1 = nn.AdaptiveMaxPool2d(output_size=(7,7))"
   ]
  },
  {
   "cell_type": "code",
   "execution_count": 9,
   "metadata": {},
   "outputs": [
    {
     "data": {
      "text/plain": [
       "tensor([[[[ 0.9231, -0.4615, -0.0841, -0.4134,  0.4861,  0.8868],\n",
       "          [ 0.2489,  0.9613,  0.4424, -0.5641, -0.3424,  1.7230],\n",
       "          [-1.1156,  0.4333,  0.5533,  0.3518,  2.2499, -0.0892],\n",
       "          [-0.6554, -0.1032,  0.5304, -0.6775, -0.2324,  0.7609],\n",
       "          [ 1.1422, -1.9638,  0.2302, -0.0636,  1.1909,  2.2724],\n",
       "          [-0.4650, -1.3083,  1.1115, -0.3109,  0.1740, -0.7091]]]])"
      ]
     },
     "execution_count": 9,
     "metadata": {},
     "output_type": "execute_result"
    }
   ],
   "source": [
    "# 1个图像 1层 6x6的\n",
    "img = torch.randn(1,1,6,6)\n",
    "img"
   ]
  },
  {
   "cell_type": "code",
   "execution_count": 10,
   "metadata": {},
   "outputs": [
    {
     "data": {
      "text/plain": [
       "torch.Size([1, 1, 3, 3])"
      ]
     },
     "execution_count": 10,
     "metadata": {},
     "output_type": "execute_result"
    }
   ],
   "source": [
    "# 平均池化\n",
    "# 用一个 2x2 的窗口对输入进行平均池化，步长为2，结果就是 3x3的\n",
    "r_1 = ap2d1(img)\n",
    "r_1.shape"
   ]
  },
  {
   "cell_type": "code",
   "execution_count": 16,
   "metadata": {},
   "outputs": [
    {
     "data": {
      "text/plain": [
       "torch.Size([1, 1, 7, 7])"
      ]
     },
     "execution_count": 16,
     "metadata": {},
     "output_type": "execute_result"
    }
   ],
   "source": [
    "# 自适应平均池化\n",
    "# 自适应平均池化，参数只有一个输出大小。\n",
    "# 含义就是：不管输入是多大，输出就转成指定的大小。\n",
    "r_2 = aap2d1(img)\n",
    "r_2.shape"
   ]
  },
  {
   "cell_type": "code",
   "execution_count": 15,
   "metadata": {},
   "outputs": [
    {
     "data": {
      "text/plain": [
       "tensor([[[[ 0.9231,  0.9231, -0.0841, -0.0841,  0.4861,  0.8868,  0.8868],\n",
       "          [ 0.9231,  0.9613,  0.9613,  0.4424,  0.4861,  1.7230,  1.7230],\n",
       "          [ 0.2489,  0.9613,  0.9613,  0.5533,  2.2499,  2.2499,  1.7230],\n",
       "          [-0.6554,  0.4333,  0.5533,  0.5533,  2.2499,  2.2499,  0.7609],\n",
       "          [ 1.1422,  1.1422,  0.5304,  0.5304,  1.1909,  2.2724,  2.2724],\n",
       "          [ 1.1422,  1.1422,  1.1115,  1.1115,  1.1909,  2.2724,  2.2724],\n",
       "          [-0.4650, -0.4650,  1.1115,  1.1115,  0.1740,  0.1740, -0.7091]]]])"
      ]
     },
     "execution_count": 15,
     "metadata": {},
     "output_type": "execute_result"
    }
   ],
   "source": [
    "r_2"
   ]
  },
  {
   "cell_type": "code",
   "execution_count": null,
   "metadata": {},
   "outputs": [],
   "source": []
  },
  {
   "cell_type": "code",
   "execution_count": null,
   "metadata": {},
   "outputs": [],
   "source": []
  }
 ],
 "metadata": {
  "kernelspec": {
   "display_name": ".venv",
   "language": "python",
   "name": "python3"
  },
  "language_info": {
   "codemirror_mode": {
    "name": "ipython",
    "version": 3
   },
   "file_extension": ".py",
   "mimetype": "text/x-python",
   "name": "python",
   "nbconvert_exporter": "python",
   "pygments_lexer": "ipython3",
   "version": "3.9.18"
  }
 },
 "nbformat": 4,
 "nbformat_minor": 2
}
