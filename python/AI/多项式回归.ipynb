{
 "cells": [
  {
   "cell_type": "code",
   "execution_count": 18,
   "metadata": {},
   "outputs": [],
   "source": [
    "import numpy as np\n",
    "from sklearn.model_selection import train_test_split\n",
    "from sklearn.linear_model import LinearRegression\n",
    "from sklearn.metrics import mean_squared_error\n",
    "from sklearn.preprocessing import StandardScaler\n",
    "from matplotlib import pyplot as plt"
   ]
  },
  {
   "cell_type": "code",
   "execution_count": 19,
   "metadata": {},
   "outputs": [],
   "source": [
    "# 导入数据\n",
    "X = []\n",
    "y = []\n",
    "with open(file='./data/housing.csv', mode='r', encoding='utf-8') as f:\n",
    "    for line in f:\n",
    "        ling = line.strip()\n",
    "        if line:\n",
    "            line = [float(char) for char in line.split(' ') if char]\n",
    "            X.append(line[:-1])\n",
    "            y.append(line[-1])\n",
    "\n",
    "X = np.array(X)\n",
    "y = np.array(y)\n"
   ]
  },
  {
   "cell_type": "code",
   "execution_count": 20,
   "metadata": {},
   "outputs": [],
   "source": [
    "# 数据集划分\n",
    "X_train, X_test, y_train, y_test = train_test_split(X, y, test_size=0.2, random_state=0)\n",
    "\n",
    "# 数据预处理：标准化\n",
    "scaler = StandardScaler()\n",
    "X_train = scaler.fit_transform(X_train)\n",
    "X_test = scaler.transform(X_test)"
   ]
  },
  {
   "cell_type": "code",
   "execution_count": 21,
   "metadata": {},
   "outputs": [
    {
     "name": "stdout",
     "output_type": "stream",
     "text": [
      "均方误差: 23.6950851420352\n"
     ]
    }
   ],
   "source": [
    "# 线性回归模型\n",
    "model = LinearRegression()\n",
    "model.fit(X_train, y_train)\n",
    "\n",
    "# 预测\n",
    "y_pred = model.predict(X_test)\n",
    "\n",
    "# 评估模型\n",
    "mse = mean_squared_error(y_test, y_pred)\n",
    "print(f\"均方误差: {mse}\")\n",
    "\n",
    "# print(f\"模型权重（也叫系数）(就是 y = wx + b 中的 w): {model.coef_}\")\n",
    "# print(f\"模型偏置（也叫截距）(就是 y = wx + b 中的 b): {model.intercept_}\")\n"
   ]
  },
  {
   "cell_type": "code",
   "execution_count": 22,
   "metadata": {},
   "outputs": [
    {
     "data": {
      "text/plain": [
       "<matplotlib.collections.PathCollection at 0x161e853a0>"
      ]
     },
     "execution_count": 22,
     "metadata": {},
     "output_type": "execute_result"
    },
    {
     "data": {
      "image/png": "[encoded data removed]",
      "text/plain": [
       "<Figure size 640x480 with 1 Axes>"
      ]
     },
     "metadata": {},
     "output_type": "display_data"
    }
   ],
   "source": [
    "plt.scatter(y_test,y_pred)"
   ]
  },
  {
   "cell_type": "code",
   "execution_count": 27,
   "metadata": {},
   "outputs": [
    {
     "name": "stdout",
     "output_type": "stream",
     "text": [
      "均方误差: 14.714465321895055\n"
     ]
    }
   ],
   "source": [
    "# 多项式特征\n",
    "# 将原来的特征构建成多项式特征\n",
    "from sklearn.preprocessing import PolynomialFeatures\n",
    "# 构建 2 次方的多项式 \n",
    "pf = PolynomialFeatures(degree=2)\n",
    "# 特征处理\n",
    "pf.fit(X = X_train)\n",
    "# 获取处理后的特征\n",
    "# 可以看一下特征的数量，原来是 13 个，现在是 105 个\n",
    "X_train_pf = pf.transform(X_train)\n",
    "X_test_pf = pf.transform(X_test)\n",
    "# 线性回归模型\n",
    "model = LinearRegression()\n",
    "model.fit(X_train_pf, y_train)\n",
    "\n",
    "# 预测\n",
    "y_pred = model.predict(X_test_pf)\n",
    "\n",
    "# 评估模型\n",
    "mse = mean_squared_error(y_test, y_pred)\n",
    "print(f\"均方误差: {mse}\")\n",
    "\n",
    "# print(f\"模型权重（也叫系数）(就是 y = wx + b 中的 w): {model.coef_}\")\n",
    "# print(f\"模型偏置（也叫截距）(就是 y = wx + b 中的 b): {model.intercept_}\")\n",
    "\n"
   ]
  },
  {
   "cell_type": "code",
   "execution_count": 28,
   "metadata": {},
   "outputs": [
    {
     "data": {
      "text/plain": [
       "<matplotlib.collections.PathCollection at 0x161fb9e80>"
      ]
     },
     "execution_count": 28,
     "metadata": {},
     "output_type": "execute_result"
    },
    {
     "data": {
      "image/png": "[encoded data removed]",
      "text/plain": [
       "<Figure size 640x480 with 1 Axes>"
      ]
     },
     "metadata": {},
     "output_type": "display_data"
    }
   ],
   "source": [
    "plt.scatter(y_test,y_pred)"
   ]
  },
  {
   "cell_type": "code",
   "execution_count": 29,
   "metadata": {},
   "outputs": [
    {
     "name": "stdout",
     "output_type": "stream",
     "text": [
      "均方误差: 6186.649438924564\n"
     ]
    }
   ],
   "source": [
    "# 多项式特征\n",
    "# 将原来的特征构建成多项式特征\n",
    "from sklearn.preprocessing import PolynomialFeatures\n",
    "# 构建 3 次方的多项式 \n",
    "pf = PolynomialFeatures(degree=3)\n",
    "# 特征处理\n",
    "pf.fit(X = X_train)\n",
    "# 获取处理后的特征\n",
    "X_train_pf = pf.transform(X_train)\n",
    "X_test_pf = pf.transform(X_test)\n",
    "# 线性回归模型\n",
    "model = LinearRegression()\n",
    "model.fit(X_train_pf, y_train)\n",
    "\n",
    "# 预测\n",
    "y_pred = model.predict(X_test_pf)\n",
    "\n",
    "# 评估模型\n",
    "mse = mean_squared_error(y_test, y_pred)\n",
    "print(f\"均方误差: {mse}\")\n"
   ]
  },
  {
   "cell_type": "code",
   "execution_count": null,
   "metadata": {},
   "outputs": [],
   "source": []
  }
 ],
 "metadata": {
  "kernelspec": {
   "display_name": ".venv",
   "language": "python",
   "name": "python3"
  },
  "language_info": {
   "codemirror_mode": {
    "name": "ipython",
    "version": 3
   },
   "file_extension": ".py",
   "mimetype": "text/x-python",
   "name": "python",
   "nbconvert_exporter": "python",
   "pygments_lexer": "ipython3",
   "version": "3.9.6"
  }
 },
 "nbformat": 4,
 "nbformat_minor": 2
}
