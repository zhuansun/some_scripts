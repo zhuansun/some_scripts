{
 "cells": [
  {
   "cell_type": "code",
   "execution_count": 1,
   "id": "71f64d54",
   "metadata": {},
   "outputs": [],
   "source": [
    "import torch\n",
    "from torch import nn\n",
    "import copy"
   ]
  },
  {
   "cell_type": "code",
   "execution_count": 4,
   "id": "59b2efd4",
   "metadata": {},
   "outputs": [],
   "source": [
    "linear1 = nn.Linear(in_features=32, out_features=32)"
   ]
  },
  {
   "cell_type": "code",
   "execution_count": 5,
   "id": "ec3a242a",
   "metadata": {},
   "outputs": [],
   "source": [
    "linear2 = copy.deepcopy(x=linear1)"
   ]
  },
  {
   "cell_type": "code",
   "execution_count": 6,
   "id": "fee70c34",
   "metadata": {},
   "outputs": [
    {
     "data": {
      "text/plain": [
       "Parameter containing:\n",
       "tensor([[ 0.0589,  0.1310,  0.0481,  ..., -0.1652, -0.0221, -0.0180],\n",
       "        [-0.1431,  0.1316,  0.0938,  ...,  0.0409,  0.1307, -0.0376],\n",
       "        [-0.1449,  0.1310,  0.1009,  ...,  0.0292,  0.0561, -0.1003],\n",
       "        ...,\n",
       "        [ 0.0515, -0.1555, -0.0468,  ..., -0.0762, -0.0067, -0.0127],\n",
       "        [ 0.0398, -0.1058, -0.1476,  ...,  0.0058, -0.1062, -0.0344],\n",
       "        [-0.0177,  0.1370, -0.1192,  ..., -0.0894, -0.1077, -0.0319]],\n",
       "       requires_grad=True)"
      ]
     },
     "execution_count": 6,
     "metadata": {},
     "output_type": "execute_result"
    }
   ],
   "source": [
    "linear1.weight"
   ]
  },
  {
   "cell_type": "code",
   "execution_count": 7,
   "id": "31d794b1",
   "metadata": {},
   "outputs": [
    {
     "data": {
      "text/plain": [
       "Parameter containing:\n",
       "tensor([[ 0.0589,  0.1310,  0.0481,  ..., -0.1652, -0.0221, -0.0180],\n",
       "        [-0.1431,  0.1316,  0.0938,  ...,  0.0409,  0.1307, -0.0376],\n",
       "        [-0.1449,  0.1310,  0.1009,  ...,  0.0292,  0.0561, -0.1003],\n",
       "        ...,\n",
       "        [ 0.0515, -0.1555, -0.0468,  ..., -0.0762, -0.0067, -0.0127],\n",
       "        [ 0.0398, -0.1058, -0.1476,  ...,  0.0058, -0.1062, -0.0344],\n",
       "        [-0.0177,  0.1370, -0.1192,  ..., -0.0894, -0.1077, -0.0319]],\n",
       "       requires_grad=True)"
      ]
     },
     "execution_count": 7,
     "metadata": {},
     "output_type": "execute_result"
    }
   ],
   "source": [
    "linear2.weight"
   ]
  },
  {
   "cell_type": "code",
   "execution_count": 8,
   "id": "68390038",
   "metadata": {},
   "outputs": [
    {
     "data": {
      "text/plain": [
       "2502830732576"
      ]
     },
     "execution_count": 8,
     "metadata": {},
     "output_type": "execute_result"
    }
   ],
   "source": [
    "id(linear2)"
   ]
  },
  {
   "cell_type": "code",
   "execution_count": 9,
   "id": "818b019c",
   "metadata": {},
   "outputs": [
    {
     "data": {
      "text/plain": [
       "2502830734256"
      ]
     },
     "execution_count": 9,
     "metadata": {},
     "output_type": "execute_result"
    }
   ],
   "source": [
    "id(linear1)"
   ]
  },
  {
   "cell_type": "code",
   "execution_count": 22,
   "id": "b198e298",
   "metadata": {},
   "outputs": [],
   "source": [
    "class Model(nn.Module):\n",
    "    def __init__(self):\n",
    "        super(Model, self).__init__()\n",
    "        self.linear = nn.Linear(in_features=128, out_features=128)\n",
    "        self.linears = nn.ModuleList([copy.deepcopy(self.linear) for _ in range(10)])\n",
    "    def forward(self, x):\n",
    "        x = self.linear(x)\n",
    "        for lin in self.linears:\n",
    "            x = lin(x)\n",
    "        return x"
   ]
  },
  {
   "cell_type": "code",
   "execution_count": 23,
   "id": "4a3bc5ba",
   "metadata": {},
   "outputs": [],
   "source": [
    "model = Model()"
   ]
  },
  {
   "cell_type": "code",
   "execution_count": 24,
   "id": "4a38a970",
   "metadata": {},
   "outputs": [
    {
     "data": {
      "text/plain": [
       "181632"
      ]
     },
     "execution_count": 24,
     "metadata": {},
     "output_type": "execute_result"
    }
   ],
   "source": [
    "num = 0\n",
    "for param in model.parameters():\n",
    "    num += param.numel()\n",
    "num"
   ]
  },
  {
   "cell_type": "code",
   "execution_count": 25,
   "id": "211bf1a6",
   "metadata": {},
   "outputs": [
    {
     "data": {
      "text/plain": [
       "181632"
      ]
     },
     "execution_count": 25,
     "metadata": {},
     "output_type": "execute_result"
    }
   ],
   "source": [
    "(128 * 128 + 128) * 11"
   ]
  },
  {
   "cell_type": "code",
   "execution_count": 47,
   "id": "5b92a495",
   "metadata": {},
   "outputs": [],
   "source": [
    "class Model(nn.Module):\n",
    "    def __init__(self):\n",
    "        super(Model, self).__init__()\n",
    "        self.linear = nn.Linear(in_features=16, out_features=16)\n",
    "#         self.w1 = torch.randn(3, 5, requires_grad=True)\n",
    "        self.w2 = nn.Parameter(data=torch.randn(3, 5))"
   ]
  },
  {
   "cell_type": "code",
   "execution_count": 48,
   "id": "3b729030",
   "metadata": {},
   "outputs": [],
   "source": [
    "model = Model()"
   ]
  },
  {
   "cell_type": "code",
   "execution_count": 49,
   "id": "6106db71",
   "metadata": {},
   "outputs": [
    {
     "name": "stdout",
     "output_type": "stream",
     "text": [
      "torch.Size([3, 5])\n",
      "torch.Size([16, 16])\n",
      "torch.Size([16])\n"
     ]
    }
   ],
   "source": [
    "for param in model.parameters():\n",
    "    print(param.shape)"
   ]
  },
  {
   "cell_type": "code",
   "execution_count": null,
   "id": "5163c39e",
   "metadata": {},
   "outputs": [],
   "source": []
  },
  {
   "cell_type": "code",
   "execution_count": null,
   "id": "29d777ed",
   "metadata": {},
   "outputs": [],
   "source": []
  }
 ],
 "metadata": {
  "kernelspec": {
   "display_name": "Python 3 (ipykernel)",
   "language": "python",
   "name": "python3"
  },
  "language_info": {
   "codemirror_mode": {
    "name": "ipython",
    "version": 3
   },
   "file_extension": ".py",
   "mimetype": "text/x-python",
   "name": "python",
   "nbconvert_exporter": "python",
   "pygments_lexer": "ipython3",
   "version": "3.10.9"
  }
 },
 "nbformat": 4,
 "nbformat_minor": 5
}
